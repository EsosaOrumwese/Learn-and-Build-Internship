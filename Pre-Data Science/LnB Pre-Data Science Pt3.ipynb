{
 "cells": [
  {
   "cell_type": "markdown",
   "metadata": {},
   "source": [
    "# Pandas Data Handling and Computation\n",
    "#### Series"
   ]
  },
  {
   "cell_type": "code",
   "execution_count": 29,
   "metadata": {},
   "outputs": [],
   "source": [
    "import pandas as pd\n",
    "import numpy as np\n",
    "import time"
   ]
  },
  {
   "cell_type": "code",
   "execution_count": 30,
   "metadata": {},
   "outputs": [
    {
     "name": "stdout",
     "output_type": "stream",
     "text": [
      "<class 'pandas.core.series.Series'>\n",
      "0        1\n",
      "1        2\n",
      "2        3\n",
      "3        4\n",
      "4     five\n",
      "5      six\n",
      "6    seven\n",
      "7    eight\n",
      "dtype: object\n",
      "\n",
      "lnb_series11:\n",
      "2        1\n",
      "3        2\n",
      "4        3\n",
      "5        4\n",
      "6     five\n",
      "7      six\n",
      "8    seven\n",
      "9    eight\n",
      "Name: LnB_series, dtype: object\n"
     ]
    }
   ],
   "source": [
    "# make tuple\n",
    "lnb_tupl1 = (1,2,3,4,\"five\",\"six\",'seven','eight')\n",
    "\n",
    "# creating/converting into pd Series\n",
    "lnb_series1 = pd.Series(lnb_tupl1)\n",
    "lnb_series11 = pd.Series(lnb_tupl1,name='LnB_series',index=range(2,10))\n",
    "print(type(lnb_series1))\n",
    "print(lnb_series1)\n",
    "print(\"\\nlnb_series11:\")\n",
    "print(lnb_series11)"
   ]
  },
  {
   "cell_type": "code",
   "execution_count": 31,
   "metadata": {},
   "outputs": [
    {
     "name": "stdout",
     "output_type": "stream",
     "text": [
      "0       1\n",
      "1       2\n",
      "2       3\n",
      "3       4\n",
      "4    five\n",
      "dtype: object\n",
      "3        4\n",
      "4     five\n",
      "5      six\n",
      "6    seven\n",
      "7    eight\n",
      "dtype: object\n",
      "4    five\n",
      "1       2\n",
      "dtype: object\n"
     ]
    }
   ],
   "source": [
    "# print head of series\n",
    "print(lnb_series1.head())\n",
    "# print tail of lnb_series1\n",
    "print(lnb_series1.tail())\n",
    "# print random sample elements\n",
    "print(lnb_series1.sample(2))"
   ]
  },
  {
   "cell_type": "code",
   "execution_count": 32,
   "metadata": {},
   "outputs": [
    {
     "name": "stdout",
     "output_type": "stream",
     "text": [
      "Printing dictionary as series...\n",
      "lnb1       IoT\n",
      "lnb2        AI\n",
      "lnb3    DevOps\n",
      "dtype: object\n",
      "0    Hello World\n",
      "1              2\n",
      "2              3\n",
      "3              4\n",
      "4           five\n",
      "5            six\n",
      "6          seven\n",
      "7          eight\n",
      "dtype: object\n",
      "0        1\n",
      "1        2\n",
      "2        3\n",
      "3        4\n",
      "4     five\n",
      "5      six\n",
      "6    seven\n",
      "7    eight\n",
      "dtype: object\n"
     ]
    }
   ],
   "source": [
    "# Creating Series from Dictionary\n",
    "lnb_dict1 = {'lnb1':'IoT','lnb2':'AI','lnb3':'DevOps'}\n",
    "lnb_series2 = pd.Series(lnb_dict1)\n",
    "print(\"Printing dictionary as series...\")\n",
    "print(lnb_series2)\n",
    "\n",
    "# Creating from another Series\n",
    "lnb_series3 = pd.Series(lnb_series1,copy=True)\n",
    "\n",
    "# updating series\n",
    "lnb_series3[0] = \"Hello World\"\n",
    "print(lnb_series3)\n",
    "print(lnb_series1)\n",
    "\n"
   ]
  },
  {
   "cell_type": "code",
   "execution_count": 33,
   "metadata": {},
   "outputs": [
    {
     "name": "stdout",
     "output_type": "stream",
     "text": [
      "{'Name': ['Xavier', 'Scott', 'Logan'], 'Alias': ['Professor X', 'Cyclops', 'Wolverine']}\n",
      "Name                [Xavier, Scott, Logan]\n",
      "Alias    [Professor X, Cyclops, Wolverine]\n",
      "dtype: object\n",
      "\n",
      "changing...\n",
      "Name                       [Ed, Edd, Eddy]\n",
      "Alias    [Professor X, Cyclops, Wolverine]\n",
      "dtype: object\n",
      "{'Name': ['Xavier', 'Scott', 'Logan'], 'Alias': ['Professor X', 'Cyclops', 'Wolverine']}\n"
     ]
    }
   ],
   "source": [
    "# another dictionary\n",
    "lnb_dict2 = {'Name': ['Xavier','Scott','Logan'], 'Alias':['Professor X','Cyclops','Wolverine']}\n",
    "print(lnb_dict2)\n",
    "lnb_series4 = pd.Series(lnb_dict2) \n",
    "print(lnb_series4)\n",
    "\n",
    "# changing\n",
    "print(\"\\nchanging...\")\n",
    "lnb_series4.iloc[0] = ['Ed','Edd','Eddy']\n",
    "print(lnb_series4)\n",
    "print(lnb_dict2)"
   ]
  },
  {
   "cell_type": "markdown",
   "metadata": {},
   "source": [
    "#### Attrributes of Pandas Series"
   ]
  },
  {
   "cell_type": "code",
   "execution_count": 34,
   "metadata": {},
   "outputs": [
    {
     "name": "stdout",
     "output_type": "stream",
     "text": [
      "0        1\n",
      "1        2\n",
      "2        3\n",
      "3        4\n",
      "4     five\n",
      "5      six\n",
      "6    seven\n",
      "7    eight\n",
      "dtype: object\n",
      "\n",
      "transposing...\n",
      "0        1\n",
      "1        2\n",
      "2        3\n",
      "3        4\n",
      "4     five\n",
      "5      six\n",
      "6    seven\n",
      "7    eight\n",
      "dtype: object\n"
     ]
    }
   ],
   "source": [
    "# Transpose\n",
    "print(lnb_series1)\n",
    "print(\"\\ntransposing...\")\n",
    "print(lnb_series1.T)"
   ]
  },
  {
   "cell_type": "code",
   "execution_count": 35,
   "metadata": {},
   "outputs": [
    {
     "name": "stdout",
     "output_type": "stream",
     "text": [
      "0       1\n",
      "4    five\n",
      "5     six\n",
      "dtype: object\n",
      "0       1\n",
      "1       2\n",
      "2       3\n",
      "3       4\n",
      "4    five\n",
      "dtype: object\n"
     ]
    }
   ],
   "source": [
    "print(lnb_series1[[0,4,5]])\n",
    "print(lnb_series1[0:5])"
   ]
  },
  {
   "cell_type": "code",
   "execution_count": 36,
   "metadata": {},
   "outputs": [
    {
     "name": "stdout",
     "output_type": "stream",
     "text": [
      "lnb1       IoT\n",
      "lnb2        AI\n",
      "lnb3    DevOps\n",
      "dtype: object\n",
      "\n",
      ".get('lnb1'):  IoT\n",
      ".at['lnb2']:  AI\n",
      ".iloc[0]:  IoT\n",
      ".iat[1]:  AI\n"
     ]
    }
   ],
   "source": [
    "print(lnb_series2)\n",
    "print()\n",
    "print(\".get('lnb1'): \",lnb_series2.get('lnb1'))\n",
    "print(\".at['lnb2']: \",lnb_series2.at['lnb2'])\n",
    "\n",
    "# accessing using index\n",
    "print(\".iloc[0]: \",lnb_series2.iloc[0])\n",
    "print(\".iat[1]: \",lnb_series2.iat[1])"
   ]
  },
  {
   "cell_type": "code",
   "execution_count": 37,
   "metadata": {},
   "outputs": [
    {
     "name": "stdout",
     "output_type": "stream",
     "text": [
      "[RangeIndex(start=0, stop=8, step=1)]\n",
      "[Index(['lnb1', 'lnb2', 'lnb3'], dtype='object')]\n"
     ]
    }
   ],
   "source": [
    "# accessing the index\n",
    "print(lnb_series1.axes)\n",
    "print(lnb_series2.axes)"
   ]
  },
  {
   "cell_type": "code",
   "execution_count": 38,
   "metadata": {},
   "outputs": [
    {
     "name": "stdout",
     "output_type": "stream",
     "text": [
      "<class 'pandas.core.series.Series'>\n",
      "True\n",
      "[1 4 2 'lnb' None True]\n"
     ]
    }
   ],
   "source": [
    "# creating a new directory\n",
    "hetero_list = [1,4,2,'lnb',None,True]\n",
    "lnb_series4= pd.Series(hetero_list)\n",
    "print(type(lnb_series2))\n",
    "\n",
    "# checking is NaN values are in the list\n",
    "print(lnb_series4.hasnans)\n",
    "\n",
    "# checking values in series\n",
    "print(lnb_series4.values)"
   ]
  },
  {
   "cell_type": "code",
   "execution_count": 39,
   "metadata": {},
   "outputs": [
    {
     "name": "stdout",
     "output_type": "stream",
     "text": [
      "[nan, 0, 2, 5, nan, 7, True, nan]\n",
      "0     NaN\n",
      "1       0\n",
      "2       2\n",
      "3       5\n",
      "4     NaN\n",
      "5       7\n",
      "6    True\n",
      "7     NaN\n",
      "dtype: object\n",
      "(2, 1)\n",
      "(3, 2)\n",
      "(4, 3)\n",
      "(5, 4)\n",
      "(6, 'five')\n",
      "(7, 'six')\n",
      "(8, 'seven')\n",
      "(9, 'eight')\n"
     ]
    }
   ],
   "source": [
    "# creating list and also handling NaN name error\n",
    "from numpy.core.numeric import NaN\n",
    "incomplete_list = [NaN, 0, 2, 5, NaN, 7, True, NaN]\n",
    "print(incomplete_list)\n",
    "\n",
    "# convert into series\n",
    "s1 = pd.Series(incomplete_list)\n",
    "print(s1)\n",
    "\n",
    "# for loop\n",
    "lnb_series1.index = range(2,10) \n",
    "for i in lnb_series1.items():\n",
    "    print(i)\n",
    "    time.sleep(1)"
   ]
  },
  {
   "cell_type": "code",
   "execution_count": 40,
   "metadata": {},
   "outputs": [
    {
     "name": "stdout",
     "output_type": "stream",
     "text": [
      "Addition:\n",
      "a     8.3\n",
      "b     5.0\n",
      "c    18.0\n",
      "d    -2.0\n",
      "dtype: float64\n",
      "\n",
      "Subtraction:\n",
      "a    -6.3\n",
      "b    -1.0\n",
      "c   -12.0\n",
      "d    10.0\n",
      "dtype: float64\n",
      "\n",
      "Multiplication:\n",
      "a     7.3\n",
      "b     6.0\n",
      "c    45.0\n",
      "d   -24.0\n",
      "dtype: float64\n",
      "\n",
      "Division:\n",
      "a    0.136986\n",
      "b    0.666667\n",
      "c    0.200000\n",
      "d   -0.666667\n",
      "dtype: float64\n"
     ]
    }
   ],
   "source": [
    "# arithmethic operations\n",
    "s2 = pd.Series([1,2,3,4], index=['a','b','c','d'])\n",
    "s3 = pd.Series([3,15,-6,7.3], index=['b','c','d','a'])\n",
    "s4 = s2.add(s3) # add\n",
    "print(\"Addition:\")\n",
    "print(s4)\n",
    "print(\"\\nSubtraction:\")\n",
    "print(s2.sub(s3))\n",
    "print(\"\\nMultiplication:\")\n",
    "print(s2.multiply(s3))\n",
    "print(\"\\nDivision:\")\n",
    "print(s2.div(s3))\n"
   ]
  },
  {
   "cell_type": "markdown",
   "metadata": {},
   "source": [
    "#### DataFrame"
   ]
  },
  {
   "cell_type": "code",
   "execution_count": 41,
   "metadata": {},
   "outputs": [
    {
     "name": "stdout",
     "output_type": "stream",
     "text": [
      "         name  weight          team\n",
      "0  Emma Frost      23         X-men\n",
      "1  Tony Stark      32      Avengers\n",
      "2   Nick Fury      46  S.H.I.E.L.D.\n",
      "\n",
      "transposing...\n",
      "                 0           1             2\n",
      "name    Emma Frost  Tony Stark     Nick Fury\n",
      "weight          23          32            46\n",
      "team         X-men    Avengers  S.H.I.E.L.D.\n"
     ]
    }
   ],
   "source": [
    "# creating a dictionary\n",
    "data = {\"name\":['Emma Frost','Tony Stark','Nick Fury'], \"weight\":[23,32,46], \"team\":['X-men','Avengers','S.H.I.E.L.D.']}\n",
    "\n",
    "# Method 1\n",
    "# creating data frame\n",
    "df = pd.DataFrame(data)\n",
    "print(df)\n",
    "\n",
    "# transposing dataframe\n",
    "print(\"\\ntransposing...\")\n",
    "print(df.T)"
   ]
  },
  {
   "cell_type": "code",
   "execution_count": 42,
   "metadata": {},
   "outputs": [
    {
     "name": "stdout",
     "output_type": "stream",
     "text": [
      "                 1          2            3           4\n",
      "name          Alex     Frenza        Esosa       Bruce\n",
      "age             23         21           23          35\n",
      "place  Philippines  Venezuala      Nigeria      Gotham\n",
      "food       chapati    burgers  Jollof rice  Vengeance!\n",
      "\n",
      "     name age        place         food\n",
      "1    Alex  23  Philippines      chapati\n",
      "2  Frenza  21    Venezuala      burgers\n",
      "3   Esosa  23      Nigeria  Jollof rice\n",
      "4   Bruce  35       Gotham   Vengeance!\n"
     ]
    }
   ],
   "source": [
    "# Method 2 - dict / dict \n",
    "d1 = {1: {'name':'Alex', 'age':23, 'place':'Philippines', 'food':'chapati'},\n",
    "2: {'name':'Frenza', 'age':21, 'place':'Venezuala', 'food':'burgers'},\n",
    "3: {'name':'Esosa', 'age':23, 'place':'Nigeria', 'food':'Jollof rice'},\n",
    "4: {'name':'Bruce', 'age':35, 'place':'Gotham', 'food':'Vengeance!'}}\n",
    "\n",
    "# creating dataframe\n",
    "df1 = pd.DataFrame(d1)\n",
    "print(df1)\n",
    "print()\n",
    "print(df1.T)\n"
   ]
  },
  {
   "cell_type": "code",
   "execution_count": 57,
   "metadata": {},
   "outputs": [
    {
     "name": "stdout",
     "output_type": "stream",
     "text": [
      "    A   B   C   D\n",
      "a   1   2   3   4\n",
      "b   5   6   7   8\n",
      "c   9  10  11  12\n",
      "d  13  14  15  16\n",
      "\n",
      "    0   1   2   3\n",
      "0   0   1   2   3\n",
      "1   4   5   6   7\n",
      "2   8   9  10  11\n",
      "3  12  13  14  15\n"
     ]
    }
   ],
   "source": [
    "# Method 3 - list / list\n",
    "d2 = [[1,2,3,4], [5,6,7,8], [9,10,11,12], [13,14,15,16]]\n",
    "df2 = pd.DataFrame(d2, index=['a','b','c','d'],columns=['A','B','C','D'])\n",
    "print(df2)\n",
    "\n",
    "# Method Extra ;]\n",
    "df3 = pd.DataFrame(np.arange(16).reshape(4,4))\n",
    "print()\n",
    "print(df3)"
   ]
  },
  {
   "cell_type": "code",
   "execution_count": 58,
   "metadata": {},
   "outputs": [
    {
     "name": "stdout",
     "output_type": "stream",
     "text": [
      "           W         X         Y         Z\n",
      "0   0.729399  0.819464  0.763112  0.639822\n",
      "1   0.837596  0.979585  0.658620  0.642746\n",
      "2   0.517834  0.153001  0.298523  0.008185\n",
      "3   0.233905  0.231963  0.940261  0.109975\n",
      "4   0.952357  0.297629  0.305200  0.785417\n",
      "5   0.032351  0.941969  0.177668  0.913786\n",
      "6   0.197170  0.785136  0.540764  0.259099\n",
      "7   0.692427  0.314305  0.310682  0.727924\n",
      "8   0.503748  0.589238  0.674512  0.170139\n",
      "9   0.662340  0.598846  0.372235  0.491157\n",
      "10  0.892904  0.963011  0.102655  0.823819\n",
      "11  0.592734  0.615963  0.213199  0.666125\n",
      "12  0.390168  0.032675  0.631657  0.029880\n",
      "13  0.292861  0.991673  0.083141  0.160287\n",
      "14  0.753096  0.908201  0.355214  0.105509\n",
      "15  0.383179  0.864812  0.483351  0.522719\n",
      "16  0.932710  0.027006  0.142203  0.086504\n",
      "17  0.186808  0.461585  0.633189  0.690254\n",
      "18  0.652366  0.751549  0.186722  0.540154\n",
      "19  0.074648  0.900529  0.425808  0.763363\n",
      "20  0.812342  0.501961  0.970318  0.638544\n",
      "21  0.039985  0.428559  0.262283  0.815041\n",
      "22  0.033122  0.718596  0.755160  0.405604\n",
      "23  0.613174  0.363387  0.049469  0.426620\n",
      "24  0.880040  0.589181  0.081513  0.262620\n"
     ]
    }
   ],
   "source": [
    "# from numpy to dict\n",
    "newdf = pd.DataFrame(np.random.rand(25,4), index=np.arange(25), columns=['W','X','Y','Z'])\n",
    "print(newdf)"
   ]
  },
  {
   "cell_type": "code",
   "execution_count": 59,
   "metadata": {},
   "outputs": [
    {
     "name": "stdout",
     "output_type": "stream",
     "text": [
      "W    0.729399\n",
      "X    0.819464\n",
      "Y    0.763112\n",
      "Z    0.639822\n",
      "Name: 0, dtype: float64\n",
      "          W         X         Y         Z\n",
      "0  0.729399  0.819464  0.763112  0.639822\n",
      "1  0.837596  0.979585  0.658620  0.642746\n",
      "2  0.517834  0.153001  0.298523  0.008185\n",
      "\n",
      "Head:\n",
      "          W         X         Y         Z\n",
      "0  0.729399  0.819464  0.763112  0.639822\n",
      "1  0.837596  0.979585  0.658620  0.642746\n",
      "2  0.517834  0.153001  0.298523  0.008185\n",
      "3  0.233905  0.231963  0.940261  0.109975\n",
      "4  0.952357  0.297629  0.305200  0.785417\n",
      "\n",
      "Tail:\n",
      "           W         X         Y         Z\n",
      "20  0.812342  0.501961  0.970318  0.638544\n",
      "21  0.039985  0.428559  0.262283  0.815041\n",
      "22  0.033122  0.718596  0.755160  0.405604\n",
      "23  0.613174  0.363387  0.049469  0.426620\n",
      "24  0.880040  0.589181  0.081513  0.262620\n"
     ]
    }
   ],
   "source": [
    "# operations\n",
    "# printing first row\n",
    "print(newdf.iloc[0])\n",
    "# row range\n",
    "print(newdf.iloc[0:3])\n",
    "\n",
    "# top 5 and bottom 5rows\n",
    "print(\"\\nHead:\")\n",
    "print(newdf.head())\n",
    "print(\"\\nTail:\")\n",
    "print(newdf.tail())"
   ]
  },
  {
   "cell_type": "code",
   "execution_count": 60,
   "metadata": {},
   "outputs": [
    {
     "name": "stdout",
     "output_type": "stream",
     "text": [
      "\n",
      "Describe Data:\n",
      "               W          X          Y          Z\n",
      "count  25.000000  25.000000  25.000000  25.000000\n",
      "mean    0.515571   0.593193   0.416698   0.467412\n",
      "std     0.308193   0.302289   0.274186   0.286588\n",
      "min     0.032351   0.027006   0.049469   0.008185\n",
      "25%     0.233905   0.363387   0.186722   0.170139\n",
      "50%     0.592734   0.598846   0.355214   0.522719\n",
      "75%     0.753096   0.864812   0.633189   0.690254\n",
      "max     0.952357   0.991673   0.970318   0.913786\n",
      "\n",
      "Index: Int64Index([ 0,  1,  2,  3,  4,  5,  6,  7,  8,  9, 10, 11, 12, 13, 14, 15, 16,\n",
      "            17, 18, 19, 20, 21, 22, 23, 24],\n",
      "           dtype='int64') \n",
      "Columns: Index(['W', 'X', 'Y', 'Z'], dtype='object')\n"
     ]
    }
   ],
   "source": [
    "# describe df\n",
    "print(\"\\nDescribe Data:\")\n",
    "print(newdf.describe())\n",
    "\n",
    "# index and columns\n",
    "print(f'\\nIndex: {newdf.index}', \n",
    "      f'\\nColumns: {newdf.columns}')"
   ]
  },
  {
   "cell_type": "code",
   "execution_count": 61,
   "metadata": {},
   "outputs": [
    {
     "name": "stdout",
     "output_type": "stream",
     "text": [
      "0     0.729399\n",
      "1     0.837596\n",
      "2     0.517834\n",
      "3     0.233905\n",
      "4     0.952357\n",
      "5     0.032351\n",
      "6     0.197170\n",
      "7     0.692427\n",
      "8     0.503748\n",
      "9     0.662340\n",
      "10    0.892904\n",
      "11    0.592734\n",
      "12    0.390168\n",
      "Name: W, dtype: float64\n",
      "\n",
      "0.7293985863827624\n",
      "          W         X\n",
      "0  0.729399  0.819464\n",
      "1  0.837596  0.979585\n",
      "2  0.517834  0.153001\n"
     ]
    }
   ],
   "source": [
    "# accessing dataframe\n",
    "print(newdf['W'][0:13]) # df['ColumnId']['Row Id]\n",
    "print(f'\\n{newdf[\"W\"][0]}')\n",
    "\n",
    "# random rows\n",
    "print(newdf.iloc[0:3,0:2]) # df.iloc[Row,Column]"
   ]
  },
  {
   "cell_type": "code",
   "execution_count": 62,
   "metadata": {},
   "outputs": [
    {
     "name": "stdout",
     "output_type": "stream",
     "text": [
      "          W         X         Y         Z\n",
      "0  0.729399  0.819464  0.763112  0.052625\n",
      "1  0.837596  0.979585  0.658620  0.300780\n",
      "2  0.517834  0.153001  0.298523  0.985626\n",
      "          W         X         Y         Z\n",
      "0  0.729399  0.819464  0.763112  0.052625\n",
      "1  0.837596  0.979585  0.658620  0.300780\n",
      "2  0.517834  0.153001  0.298523  0.985626\n",
      "3  2.000000  4.000000  6.000000  7.000000\n",
      "          W    A         X         Y         Z\n",
      "0  0.729399  0.4  0.819464  0.763112  0.052625\n",
      "1  0.837596  0.2  0.979585  0.658620  0.300780\n",
      "2  0.517834  0.1  0.153001  0.298523  0.985626\n"
     ]
    }
   ],
   "source": [
    "# adding new column\n",
    "newdata2 = newdf.iloc[0:3,0:3]\n",
    "newdata2['Z'] = np.random.rand(3)\n",
    "print(newdata2)\n",
    "\n",
    "# adding data in row\n",
    "data3 = pd.DataFrame(np.array([2,4,6,7]).reshape(1,4),index=[3],columns=['W','X','Y','Z'])\n",
    "print(newdata2.append(data3))\n",
    "\n",
    "# inserting a new column\n",
    "newdata2.insert(1,\"A\",[0.4,0.2,0.1])\n",
    "print(newdata2)"
   ]
  },
  {
   "cell_type": "code",
   "execution_count": 79,
   "metadata": {},
   "outputs": [
    {
     "name": "stdout",
     "output_type": "stream",
     "text": [
      "   A    B      C\n",
      "0  1  2.0  esosa\n",
      "1  2  3.0  katie \n",
      "\n",
      ">> data2+data2:\n",
      "   A    B           C\n",
      "0  2  4.0  esosaesosa\n",
      "1  4  6.0  katiekatie \n",
      "\n",
      ">> data2.count():\n",
      "A    2\n",
      "B    2\n",
      "C    2\n",
      "dtype: int64\n",
      "   B  C   D\n",
      "x  3  4 NaN\n",
      "\n",
      "dropping NaN...\n",
      "Empty DataFrame\n",
      "Columns: [B, C, D]\n",
      "Index: []\n"
     ]
    }
   ],
   "source": [
    "# creating a new df\n",
    "data = [(1,2.0,\"esosa\"), (2,3.0,'katie')]\n",
    "data2 = pd.DataFrame(data,columns=['A','B','C'])\n",
    "print(data2,\"\\n\")\n",
    "\n",
    "# operation\n",
    "print(\">> data2+data2:\")\n",
    "print(data2+data2, \"\\n\")\n",
    "print(\">> data2.count():\")\n",
    "print(data2.count())\n",
    "\n",
    "# creation of another df\n",
    "data4 = pd.DataFrame([[3,4,NaN]], index=['x'], columns=['B','C','D'])\n",
    "print(data4)\n",
    "print()\n",
    "# dropping NA\n",
    "print(\"dropping NaN...\")\n",
    "time.sleep(1)\n",
    "print(data4.dropna())"
   ]
  },
  {
   "cell_type": "code",
   "execution_count": 85,
   "metadata": {},
   "outputs": [
    {
     "name": "stdout",
     "output_type": "stream",
     "text": [
      "       num  year\n",
      "area1    1   100\n",
      "area2    2   200\n",
      "area3    3   300\n",
      "       num  year\n",
      "area1    2   101\n",
      "area2    3   201\n",
      "area3    4   301\n",
      "       num  year\n",
      "area1    1    99\n",
      "area2    2   199\n",
      "area3    3   299\n"
     ]
    }
   ],
   "source": [
    "# new DF\n",
    "data5 = pd.DataFrame({'num': [1,2,3],\n",
    "                      'year': [100,200,300],},\n",
    "                     index=['area1','area2','area3'])\n",
    "print(data5)\n",
    "data5=data5+1  #data5.add(1)\n",
    "print(data5)\n",
    "\n",
    "print(data5-[1,2])"
   ]
  },
  {
   "cell_type": "code",
   "execution_count": 90,
   "metadata": {},
   "outputs": [
    {
     "data": {
      "text/html": [
       "<div>\n",
       "<style scoped>\n",
       "    .dataframe tbody tr th:only-of-type {\n",
       "        vertical-align: middle;\n",
       "    }\n",
       "\n",
       "    .dataframe tbody tr th {\n",
       "        vertical-align: top;\n",
       "    }\n",
       "\n",
       "    .dataframe thead th {\n",
       "        text-align: right;\n",
       "    }\n",
       "</style>\n",
       "<table border=\"1\" class=\"dataframe\">\n",
       "  <thead>\n",
       "    <tr style=\"text-align: right;\">\n",
       "      <th></th>\n",
       "      <th>Country</th>\n",
       "      <th>Gold Medal</th>\n",
       "      <th>Silver Medal</th>\n",
       "      <th>Bronze Medal</th>\n",
       "      <th>Total</th>\n",
       "      <th>Rank by Total</th>\n",
       "    </tr>\n",
       "  </thead>\n",
       "  <tbody>\n",
       "    <tr>\n",
       "      <th>0</th>\n",
       "      <td>United States of America</td>\n",
       "      <td>39</td>\n",
       "      <td>41</td>\n",
       "      <td>33</td>\n",
       "      <td>113</td>\n",
       "      <td>1</td>\n",
       "    </tr>\n",
       "    <tr>\n",
       "      <th>1</th>\n",
       "      <td>People's Republic of China</td>\n",
       "      <td>38</td>\n",
       "      <td>32</td>\n",
       "      <td>18</td>\n",
       "      <td>88</td>\n",
       "      <td>2</td>\n",
       "    </tr>\n",
       "    <tr>\n",
       "      <th>2</th>\n",
       "      <td>Japan</td>\n",
       "      <td>27</td>\n",
       "      <td>14</td>\n",
       "      <td>17</td>\n",
       "      <td>58</td>\n",
       "      <td>5</td>\n",
       "    </tr>\n",
       "    <tr>\n",
       "      <th>3</th>\n",
       "      <td>Great Britain</td>\n",
       "      <td>22</td>\n",
       "      <td>21</td>\n",
       "      <td>22</td>\n",
       "      <td>65</td>\n",
       "      <td>4</td>\n",
       "    </tr>\n",
       "    <tr>\n",
       "      <th>4</th>\n",
       "      <td>ROC</td>\n",
       "      <td>20</td>\n",
       "      <td>28</td>\n",
       "      <td>23</td>\n",
       "      <td>71</td>\n",
       "      <td>3</td>\n",
       "    </tr>\n",
       "    <tr>\n",
       "      <th>...</th>\n",
       "      <td>...</td>\n",
       "      <td>...</td>\n",
       "      <td>...</td>\n",
       "      <td>...</td>\n",
       "      <td>...</td>\n",
       "      <td>...</td>\n",
       "    </tr>\n",
       "    <tr>\n",
       "      <th>88</th>\n",
       "      <td>Ghana</td>\n",
       "      <td>0</td>\n",
       "      <td>0</td>\n",
       "      <td>1</td>\n",
       "      <td>1</td>\n",
       "      <td>77</td>\n",
       "    </tr>\n",
       "    <tr>\n",
       "      <th>89</th>\n",
       "      <td>Grenada</td>\n",
       "      <td>0</td>\n",
       "      <td>0</td>\n",
       "      <td>1</td>\n",
       "      <td>1</td>\n",
       "      <td>77</td>\n",
       "    </tr>\n",
       "    <tr>\n",
       "      <th>90</th>\n",
       "      <td>Kuwait</td>\n",
       "      <td>0</td>\n",
       "      <td>0</td>\n",
       "      <td>1</td>\n",
       "      <td>1</td>\n",
       "      <td>77</td>\n",
       "    </tr>\n",
       "    <tr>\n",
       "      <th>91</th>\n",
       "      <td>Republic of Moldova</td>\n",
       "      <td>0</td>\n",
       "      <td>0</td>\n",
       "      <td>1</td>\n",
       "      <td>1</td>\n",
       "      <td>77</td>\n",
       "    </tr>\n",
       "    <tr>\n",
       "      <th>92</th>\n",
       "      <td>Syrian Arab Republic</td>\n",
       "      <td>0</td>\n",
       "      <td>0</td>\n",
       "      <td>1</td>\n",
       "      <td>1</td>\n",
       "      <td>77</td>\n",
       "    </tr>\n",
       "  </tbody>\n",
       "</table>\n",
       "<p>93 rows × 6 columns</p>\n",
       "</div>"
      ],
      "text/plain": [
       "                       Country  Gold Medal  Silver Medal  Bronze Medal  Total  \\\n",
       "0     United States of America          39            41            33    113   \n",
       "1   People's Republic of China          38            32            18     88   \n",
       "2                        Japan          27            14            17     58   \n",
       "3                Great Britain          22            21            22     65   \n",
       "4                          ROC          20            28            23     71   \n",
       "..                         ...         ...           ...           ...    ...   \n",
       "88                       Ghana           0             0             1      1   \n",
       "89                     Grenada           0             0             1      1   \n",
       "90                      Kuwait           0             0             1      1   \n",
       "91         Republic of Moldova           0             0             1      1   \n",
       "92        Syrian Arab Republic           0             0             1      1   \n",
       "\n",
       "    Rank by Total  \n",
       "0               1  \n",
       "1               2  \n",
       "2               5  \n",
       "3               4  \n",
       "4               3  \n",
       "..            ...  \n",
       "88             77  \n",
       "89             77  \n",
       "90             77  \n",
       "91             77  \n",
       "92             77  \n",
       "\n",
       "[93 rows x 6 columns]"
      ]
     },
     "execution_count": 90,
     "metadata": {},
     "output_type": "execute_result"
    }
   ],
   "source": [
    "# reading csv file\n",
    "data = pd.read_csv('tokyo.csv', encoding=\"latin-1\")\n",
    "data"
   ]
  },
  {
   "cell_type": "code",
   "execution_count": 97,
   "metadata": {},
   "outputs": [
    {
     "name": "stdout",
     "output_type": "stream",
     "text": [
      "           Country  Gold Medal  Silver Medal  Bronze Medal  Total  \\\n",
      "17  Czech Republic           4             4             3     11   \n",
      "82      Kazakhstan           0             0             8      8   \n",
      "75         Nigeria           0             1             1      2   \n",
      "68         Armenia           0             2             2      4   \n",
      "76         Bahrain           0             1             0      1   \n",
      "\n",
      "    Rank by Total  \n",
      "17             23  \n",
      "82             29  \n",
      "75             66  \n",
      "68             47  \n",
      "76             77  \n",
      "\n",
      "0       United States of America\n",
      "1     People's Republic of China\n",
      "2                          Japan\n",
      "3                  Great Britain\n",
      "4                            ROC\n",
      "                 ...            \n",
      "88                         Ghana\n",
      "89                       Grenada\n",
      "90                        Kuwait\n",
      "91           Republic of Moldova\n",
      "92          Syrian Arab Republic\n",
      "Name: Country, Length: 93, dtype: object\n"
     ]
    }
   ],
   "source": [
    "# any sample data\n",
    "print(data.sample(5))\n",
    "\n",
    "# any column\n",
    "print()\n",
    "print(data.Country)"
   ]
  },
  {
   "cell_type": "code",
   "execution_count": 111,
   "metadata": {},
   "outputs": [
    {
     "name": "stdout",
     "output_type": "stream",
     "text": [
      "0      United States of America\n",
      "1    People's Republic of China\n",
      "2                         Japan\n",
      "3                 Great Britain\n",
      "4                           ROC\n",
      "5                     Australia\n",
      "Name: Country, dtype: object\n",
      "\n",
      "No of Countries Participated: 93\n",
      "0     28\n",
      "1     22\n",
      "3     11\n",
      "2     11\n",
      "4      5\n",
      "10     4\n",
      "7      4\n",
      "6      2\n",
      "39     1\n",
      "38     1\n",
      "27     1\n",
      "22     1\n",
      "20     1\n",
      "17     1\n",
      "Name: Gold Medal, dtype: int64\n"
     ]
    }
   ],
   "source": [
    "# Countries that won more than 10 gold medals\n",
    "print(data[data['Gold Medal'] > 10].Country)\n",
    "\n",
    "# count number of countries participated\n",
    "print(f'\\nNo of Countries Participated: {data.Country.count()}')\n",
    "\n",
    "# Count the number of countries with particular no of Gold medals\n",
    "print(data['Gold Medal'].value_counts())"
   ]
  },
  {
   "cell_type": "code",
   "execution_count": 139,
   "metadata": {},
   "outputs": [
    {
     "data": {
      "text/html": [
       "<div>\n",
       "<style scoped>\n",
       "    .dataframe tbody tr th:only-of-type {\n",
       "        vertical-align: middle;\n",
       "    }\n",
       "\n",
       "    .dataframe tbody tr th {\n",
       "        vertical-align: top;\n",
       "    }\n",
       "\n",
       "    .dataframe thead th {\n",
       "        text-align: right;\n",
       "    }\n",
       "</style>\n",
       "<table border=\"1\" class=\"dataframe\">\n",
       "  <thead>\n",
       "    <tr style=\"text-align: right;\">\n",
       "      <th></th>\n",
       "      <th>Bronze Medal</th>\n",
       "      <th>Gold Medal</th>\n",
       "      <th>Rank by Total</th>\n",
       "      <th>Silver Medal</th>\n",
       "      <th>Total</th>\n",
       "    </tr>\n",
       "    <tr>\n",
       "      <th>Country</th>\n",
       "      <th></th>\n",
       "      <th></th>\n",
       "      <th></th>\n",
       "      <th></th>\n",
       "      <th></th>\n",
       "    </tr>\n",
       "  </thead>\n",
       "  <tbody>\n",
       "    <tr>\n",
       "      <th>Argentina</th>\n",
       "      <td>2</td>\n",
       "      <td>0</td>\n",
       "      <td>60</td>\n",
       "      <td>1</td>\n",
       "      <td>3</td>\n",
       "    </tr>\n",
       "    <tr>\n",
       "      <th>Armenia</th>\n",
       "      <td>2</td>\n",
       "      <td>0</td>\n",
       "      <td>47</td>\n",
       "      <td>2</td>\n",
       "      <td>4</td>\n",
       "    </tr>\n",
       "    <tr>\n",
       "      <th>Australia</th>\n",
       "      <td>22</td>\n",
       "      <td>17</td>\n",
       "      <td>6</td>\n",
       "      <td>7</td>\n",
       "      <td>46</td>\n",
       "    </tr>\n",
       "    <tr>\n",
       "      <th>Austria</th>\n",
       "      <td>5</td>\n",
       "      <td>1</td>\n",
       "      <td>33</td>\n",
       "      <td>1</td>\n",
       "      <td>7</td>\n",
       "    </tr>\n",
       "    <tr>\n",
       "      <th>Azerbaijan</th>\n",
       "      <td>4</td>\n",
       "      <td>0</td>\n",
       "      <td>33</td>\n",
       "      <td>3</td>\n",
       "      <td>7</td>\n",
       "    </tr>\n",
       "    <tr>\n",
       "      <th>...</th>\n",
       "      <td>...</td>\n",
       "      <td>...</td>\n",
       "      <td>...</td>\n",
       "      <td>...</td>\n",
       "      <td>...</td>\n",
       "    </tr>\n",
       "    <tr>\n",
       "      <th>Uganda</th>\n",
       "      <td>1</td>\n",
       "      <td>2</td>\n",
       "      <td>47</td>\n",
       "      <td>1</td>\n",
       "      <td>4</td>\n",
       "    </tr>\n",
       "    <tr>\n",
       "      <th>Ukraine</th>\n",
       "      <td>12</td>\n",
       "      <td>1</td>\n",
       "      <td>16</td>\n",
       "      <td>6</td>\n",
       "      <td>19</td>\n",
       "    </tr>\n",
       "    <tr>\n",
       "      <th>United States of America</th>\n",
       "      <td>33</td>\n",
       "      <td>39</td>\n",
       "      <td>1</td>\n",
       "      <td>41</td>\n",
       "      <td>113</td>\n",
       "    </tr>\n",
       "    <tr>\n",
       "      <th>Uzbekistan</th>\n",
       "      <td>2</td>\n",
       "      <td>3</td>\n",
       "      <td>42</td>\n",
       "      <td>0</td>\n",
       "      <td>5</td>\n",
       "    </tr>\n",
       "    <tr>\n",
       "      <th>Venezuela</th>\n",
       "      <td>0</td>\n",
       "      <td>1</td>\n",
       "      <td>47</td>\n",
       "      <td>3</td>\n",
       "      <td>4</td>\n",
       "    </tr>\n",
       "  </tbody>\n",
       "</table>\n",
       "<p>93 rows × 5 columns</p>\n",
       "</div>"
      ],
      "text/plain": [
       "                          Bronze Medal  Gold Medal  Rank by Total  \\\n",
       "Country                                                             \n",
       "Argentina                            2           0             60   \n",
       "Armenia                              2           0             47   \n",
       "Australia                           22          17              6   \n",
       "Austria                              5           1             33   \n",
       "Azerbaijan                           4           0             33   \n",
       "...                                ...         ...            ...   \n",
       "Uganda                               1           2             47   \n",
       "Ukraine                             12           1             16   \n",
       "United States of America            33          39              1   \n",
       "Uzbekistan                           2           3             42   \n",
       "Venezuela                            0           1             47   \n",
       "\n",
       "                          Silver Medal  Total  \n",
       "Country                                        \n",
       "Argentina                            1      3  \n",
       "Armenia                              2      4  \n",
       "Australia                            7     46  \n",
       "Austria                              1      7  \n",
       "Azerbaijan                           3      7  \n",
       "...                                ...    ...  \n",
       "Uganda                               1      4  \n",
       "Ukraine                              6     19  \n",
       "United States of America            41    113  \n",
       "Uzbekistan                           0      5  \n",
       "Venezuela                            3      4  \n",
       "\n",
       "[93 rows x 5 columns]"
      ]
     },
     "execution_count": 139,
     "metadata": {},
     "output_type": "execute_result"
    }
   ],
   "source": [
    "from pandas.core.reshape.pivot import pivot_table\n",
    "\n",
    "# creating spreadsheet\n",
    "table = data.pivot_table(index='Country')\n",
    "table"
   ]
  },
  {
   "cell_type": "code",
   "execution_count": 138,
   "metadata": {},
   "outputs": [
    {
     "name": "stdout",
     "output_type": "stream",
     "text": [
      "United States of America\n",
      "Max medals: United States of America, 113\n",
      "Total number of medals:  1080\n"
     ]
    }
   ],
   "source": [
    "# Country name with max medals\n",
    "medal_max = table[table[\"Total\"]==table['Total'].max()]\n",
    "print(medal_max.index.values[0]) \n",
    "\n",
    "# getting max medals\n",
    "print(f'Max medals: {medal_max.index.values[0]}, {table[\"Total\"].max()}')\n",
    "\n",
    "# Total number of medals\n",
    "print(\"Total number of medals: \", table.Total.sum())\n"
   ]
  },
  {
   "cell_type": "code",
   "execution_count": 144,
   "metadata": {},
   "outputs": [
    {
     "name": "stdout",
     "output_type": "stream",
     "text": [
      "         Bronze Medal  Gold Medal  Rank by Total  Silver Medal  Total\n",
      "Country                                                              \n",
      "India               4           1             33             2      7\n",
      "Japan              17          27              5            14     58\n"
     ]
    }
   ],
   "source": [
    "print(table.loc[['India','Japan']])"
   ]
  }
 ],
 "metadata": {
  "interpreter": {
   "hash": "1206a4f2d6f64ed28b08c3544e67299a5b762789ddcc45660f3f6eefedb1bf11"
  },
  "kernelspec": {
   "display_name": "Python 3.9.7 ('base')",
   "language": "python",
   "name": "python3"
  },
  "language_info": {
   "codemirror_mode": {
    "name": "ipython",
    "version": 3
   },
   "file_extension": ".py",
   "mimetype": "text/x-python",
   "name": "python",
   "nbconvert_exporter": "python",
   "pygments_lexer": "ipython3",
   "version": "3.9.7"
  },
  "orig_nbformat": 4,
  "vscode": {
   "interpreter": {
    "hash": "49c510fbf5e216977ae2b4e1ac59cddc956b3debe641fc60074c1d8510ecdf9f"
   }
  }
 },
 "nbformat": 4,
 "nbformat_minor": 2
}
