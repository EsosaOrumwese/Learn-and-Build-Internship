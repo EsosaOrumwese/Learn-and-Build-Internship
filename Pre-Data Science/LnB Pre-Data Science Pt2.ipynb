{
 "cells": [
  {
   "cell_type": "markdown",
   "metadata": {},
   "source": [
    "# Data Handling and Computation\n",
    "### Numpy Array"
   ]
  },
  {
   "cell_type": "code",
   "execution_count": 1,
   "metadata": {},
   "outputs": [
    {
     "name": "stdout",
     "output_type": "stream",
     "text": [
      "<class 'numpy.ndarray'>\n"
     ]
    }
   ],
   "source": [
    "import numpy as np\n",
    "\n",
    "# create array of 1D\n",
    "arr = np.array([1,2,3,4,5])\n",
    "print(type(arr))"
   ]
  },
  {
   "cell_type": "code",
   "execution_count": 3,
   "metadata": {},
   "outputs": [
    {
     "name": "stdout",
     "output_type": "stream",
     "text": [
      "[[2 3]\n",
      " [4 5]\n",
      " [6 9]]\n",
      "Shape:  (3, 2)\n"
     ]
    }
   ],
   "source": [
    "# creating 2D array\n",
    "arr_2d = np.array([[2,3],[4,5],[6,9]])\n",
    "print(arr_2d)\n",
    "\n",
    "# checking shape of array\n",
    "print(\"Shape: \",arr_2d.shape)"
   ]
  },
  {
   "cell_type": "code",
   "execution_count": 4,
   "metadata": {},
   "outputs": [
    {
     "name": "stdout",
     "output_type": "stream",
     "text": [
      "(1, 4, 3)\n",
      "2\n"
     ]
    }
   ],
   "source": [
    "# creating 3D array\n",
    "arr_3d = np.array([[[1,2,3],[4,5,6],[4,1,2],[4,5,6]]])\n",
    "print(arr_3d.shape)\n",
    "\n",
    "# checking dim of array\n",
    "print(arr_2d.ndim)\n"
   ]
  },
  {
   "cell_type": "code",
   "execution_count": 9,
   "metadata": {},
   "outputs": [
    {
     "name": "stdout",
     "output_type": "stream",
     "text": [
      "[[[ 0  1  2  3  4]\n",
      "  [ 5  6  7  8  9]]\n",
      "\n",
      " [[10 11 12 13 14]\n",
      "  [15 16 17 18 19]]]\n"
     ]
    }
   ],
   "source": [
    "# creating another 3D array\n",
    "arr_3d = np.arange(20)\n",
    "arr_3d = arr_3d.reshape(2,2,5)\n",
    "print(arr_3d)"
   ]
  },
  {
   "cell_type": "code",
   "execution_count": 11,
   "metadata": {},
   "outputs": [
    {
     "name": "stdout",
     "output_type": "stream",
     "text": [
      "Shape of arr_3d\n",
      "group, row, column:  (2, 2, 5)\n",
      "[[0 1 2 3 4]\n",
      " [5 6 7 8 9]]\n",
      "[0 1 2 3 4]\n",
      "0\n"
     ]
    }
   ],
   "source": [
    "# shape of arr_3d\n",
    "print(\"Shape of arr_3d\")\n",
    "print('group, row, column: ', arr_3d.shape)\n",
    "\n",
    "# indexing 3D arrays\n",
    "print(arr_3d[0]) # first group\n",
    "print(arr_3d[0][0]) # first row of the first group\n",
    "print(arr_3d[0][0][0]) # first element of the first row of the first group"
   ]
  },
  {
   "cell_type": "code",
   "execution_count": 9,
   "metadata": {},
   "outputs": [
    {
     "name": "stdout",
     "output_type": "stream",
     "text": [
      "[1 3 5]\n",
      "[[2 3]\n",
      " [4 5]]\n",
      "[3 5]\n"
     ]
    }
   ],
   "source": [
    "# slicing of arrays\n",
    "arr = np.array([1,2,3,4,5,6,7])\n",
    "print(arr[0:5:2])\n",
    "\n",
    "# 2D array\n",
    "arr_2d = np.array([[2,3],[4,5],[6,9]])\n",
    "print(arr_2d[0:2])\n",
    "print(arr_2d[0:2,1])"
   ]
  },
  {
   "cell_type": "code",
   "execution_count": 18,
   "metadata": {},
   "outputs": [
    {
     "name": "stdout",
     "output_type": "stream",
     "text": [
      "[[ 1  2  3  4  5]\n",
      " [ 6  7  8  9 10]]\n",
      "[[ 1  2]\n",
      " [ 3  4]\n",
      " [ 5  6]\n",
      " [ 7  8]\n",
      " [ 9 10]]\n",
      "1\n",
      "2\n",
      "3\n",
      "4\n",
      "5\n",
      "6\n",
      "7\n",
      "8\n",
      "9\n",
      "10\n",
      "1\n",
      "2\n",
      "3\n",
      "4\n",
      "5\n",
      "6\n",
      "7\n",
      "8\n",
      "9\n",
      "10\n"
     ]
    }
   ],
   "source": [
    "import time\n",
    "\n",
    "# creating range\n",
    "arr1 = np.arange(1,11)\n",
    "\n",
    "# creating 2D array\n",
    "arr_2d = arr1.reshape(2,5)\n",
    "print(arr_2d)\n",
    "\n",
    "# 5 rows and 2 columns\n",
    "arr_2dnew = arr_2d.reshape(5,2)\n",
    "print(arr_2dnew)\n",
    "\n",
    "# for iteration\n",
    "for row in arr_2d:\n",
    "    for element in row:\n",
    "        print(element)\n",
    "        time.sleep(0.5)\n",
    "\n",
    "# Or we can convert nD array into a single \n",
    "for i in np.nditer(arr_2d):\n",
    "    print(i)\n"
   ]
  },
  {
   "cell_type": "code",
   "execution_count": 25,
   "metadata": {},
   "outputs": [
    {
     "name": "stdout",
     "output_type": "stream",
     "text": [
      "(0, 0) 1\n",
      "(0, 1) 2\n",
      "(1, 0) 3\n",
      "(1, 1) 4\n",
      "(2, 0) 5\n",
      "(2, 1) 6\n",
      "(3, 0) 7\n",
      "(3, 1) 8\n",
      "(4, 0) 9\n",
      "(4, 1) 10\n",
      "[array([1, 2, 3]), array([4, 5, 6]), array([7, 8, 9])]\n",
      "[array([1, 2, 3]), array([4, 5]), array([6, 7]), array([8, 9])]\n"
     ]
    }
   ],
   "source": [
    "# print index of values\n",
    "for idx,i in np.ndenumerate(arr_2dnew):\n",
    "    print(idx,i)\n",
    "\n",
    "# splitting arrays\n",
    "arr1 = np.arange(1,10)\n",
    "print(np.split(arr1,3))\n",
    "\n",
    "# method 2: For split array into any number\n",
    "any_arr = np.array_split(arr1,4)\n",
    "print(any_arr)"
   ]
  },
  {
   "cell_type": "code",
   "execution_count": 26,
   "metadata": {},
   "outputs": [
    {
     "name": "stdout",
     "output_type": "stream",
     "text": [
      "[[1 1]\n",
      " [2 2]\n",
      " [3 3]]\n",
      "[[1 5 1]\n",
      " [2 5 2]\n",
      " [3 5 3]]\n"
     ]
    }
   ],
   "source": [
    "# creating 2d array\n",
    "a = np.array([[1,1],[2,2],[3,3]])\n",
    "print(a)\n",
    "\n",
    "# insert in a column\n",
    "a = np.insert(a,1,5,axis=1) # np.insert(array,position,value,axis)\n",
    "print(a)"
   ]
  },
  {
   "cell_type": "code",
   "execution_count": 29,
   "metadata": {},
   "outputs": [
    {
     "name": "stdout",
     "output_type": "stream",
     "text": [
      "column inserted...\n",
      " [[1 1 1]\n",
      " [2 2 2]\n",
      " [3 3 3]]\n"
     ]
    }
   ],
   "source": [
    "# insert a column with each element different\n",
    "a = np.array([[1,1],[2,2],[3,3]])\n",
    "a = np.insert(a,1,[1,2,3],axis=1)\n",
    "print(\"column inserted...\\n\", a)"
   ]
  },
  {
   "cell_type": "code",
   "execution_count": 31,
   "metadata": {},
   "outputs": [
    {
     "name": "stdout",
     "output_type": "stream",
     "text": [
      "[1 2 3 4 5 6 7 8 9]\n",
      "[[1 2 3]\n",
      " [4 5 6]\n",
      " [7 8 9]]\n"
     ]
    }
   ],
   "source": [
    "# append\n",
    "a = np.append([1,2,3],[[4,5,6],[7,8,9]])\n",
    "print(a)\n",
    "\n",
    "# appending a 2d array\n",
    "a = np.append([[1,2,3],[4,5,6]], [[7,8,9]], axis=0)\n",
    "print(a)"
   ]
  },
  {
   "cell_type": "code",
   "execution_count": 43,
   "metadata": {},
   "outputs": [
    {
     "name": "stdout",
     "output_type": "stream",
     "text": [
      "[[1 2 3]\n",
      " [4 5 6]\n",
      " [7 8 9]]\n",
      "[[1 2 3]\n",
      " [4 5 6]]\n"
     ]
    }
   ],
   "source": [
    "# delete\n",
    "x = np.arange(1,10).reshape(3,3)\n",
    "print(x)\n",
    "print(np.delete(x,2,axis=0))"
   ]
  },
  {
   "cell_type": "code",
   "execution_count": null,
   "metadata": {},
   "outputs": [],
   "source": []
  }
 ],
 "metadata": {
  "interpreter": {
   "hash": "ec219cdf50db672e9f8693ef5c0782ab99b40ddc87a480f1573208e5c09ebe89"
  },
  "kernelspec": {
   "display_name": "Python 3.10.4 64-bit",
   "language": "python",
   "name": "python3"
  },
  "language_info": {
   "codemirror_mode": {
    "name": "ipython",
    "version": 3
   },
   "file_extension": ".py",
   "mimetype": "text/x-python",
   "name": "python",
   "nbconvert_exporter": "python",
   "pygments_lexer": "ipython3",
   "version": "3.9.7"
  },
  "orig_nbformat": 4
 },
 "nbformat": 4,
 "nbformat_minor": 2
}
