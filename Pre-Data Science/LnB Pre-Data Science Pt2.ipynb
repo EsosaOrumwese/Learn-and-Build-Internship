{
 "cells": [
  {
   "cell_type": "markdown",
   "metadata": {},
   "source": [
    "# Data Handling and Computation\n",
    "### Numpy Array"
   ]
  },
  {
   "cell_type": "code",
   "execution_count": 1,
   "metadata": {},
   "outputs": [
    {
     "name": "stdout",
     "output_type": "stream",
     "text": [
      "<class 'numpy.ndarray'>\n"
     ]
    }
   ],
   "source": [
    "import numpy as np\n",
    "\n",
    "# create array of 1D\n",
    "arr = np.array([1,2,3,4,5])\n",
    "print(type(arr))"
   ]
  },
  {
   "cell_type": "code",
   "execution_count": 2,
   "metadata": {},
   "outputs": [
    {
     "name": "stdout",
     "output_type": "stream",
     "text": [
      "[[2 3]\n",
      " [4 5]\n",
      " [6 9]]\n",
      "Shape:  (3, 2)\n"
     ]
    }
   ],
   "source": [
    "# creating 2D array\n",
    "arr_2d = np.array([[2,3],[4,5],[6,9]])\n",
    "print(arr_2d)\n",
    "\n",
    "# checking shape of array\n",
    "print(\"Shape: \",arr_2d.shape)"
   ]
  },
  {
   "cell_type": "code",
   "execution_count": 3,
   "metadata": {},
   "outputs": [
    {
     "name": "stdout",
     "output_type": "stream",
     "text": [
      "(1, 4, 3)\n",
      "2\n"
     ]
    }
   ],
   "source": [
    "# creating 3D array\n",
    "arr_3d = np.array([[[1,2,3],[4,5,6],[4,1,2],[4,5,6]]])\n",
    "print(arr_3d.shape)\n",
    "\n",
    "# checking dim of array\n",
    "print(arr_2d.ndim)\n"
   ]
  },
  {
   "cell_type": "code",
   "execution_count": 4,
   "metadata": {},
   "outputs": [
    {
     "name": "stdout",
     "output_type": "stream",
     "text": [
      "[[[ 0  1  2  3  4]\n",
      "  [ 5  6  7  8  9]]\n",
      "\n",
      " [[10 11 12 13 14]\n",
      "  [15 16 17 18 19]]]\n"
     ]
    }
   ],
   "source": [
    "# creating another 3D array\n",
    "arr_3d = np.arange(20)\n",
    "arr_3d = arr_3d.reshape(2,2,5)\n",
    "print(arr_3d)"
   ]
  },
  {
   "cell_type": "code",
   "execution_count": 5,
   "metadata": {},
   "outputs": [
    {
     "name": "stdout",
     "output_type": "stream",
     "text": [
      "Shape of arr_3d\n",
      "group, row, column:  (2, 2, 5)\n",
      "[[0 1 2 3 4]\n",
      " [5 6 7 8 9]]\n",
      "[0 1 2 3 4]\n",
      "0\n"
     ]
    }
   ],
   "source": [
    "# shape of arr_3d\n",
    "print(\"Shape of arr_3d\")\n",
    "print('group, row, column: ', arr_3d.shape)\n",
    "\n",
    "# indexing 3D arrays\n",
    "print(arr_3d[0]) # first group\n",
    "print(arr_3d[0][0]) # first row of the first group\n",
    "print(arr_3d[0][0][0]) # first element of the first row of the first group"
   ]
  },
  {
   "cell_type": "code",
   "execution_count": 6,
   "metadata": {},
   "outputs": [
    {
     "name": "stdout",
     "output_type": "stream",
     "text": [
      "[1 3 5]\n",
      "[[2 3]\n",
      " [4 5]]\n",
      "[3 5]\n"
     ]
    }
   ],
   "source": [
    "# slicing of arrays\n",
    "arr = np.array([1,2,3,4,5,6,7])\n",
    "print(arr[0:5:2])\n",
    "\n",
    "# 2D array\n",
    "arr_2d = np.array([[2,3],[4,5],[6,9]])\n",
    "print(arr_2d[0:2])\n",
    "print(arr_2d[0:2,1])"
   ]
  },
  {
   "cell_type": "code",
   "execution_count": 7,
   "metadata": {},
   "outputs": [
    {
     "name": "stdout",
     "output_type": "stream",
     "text": [
      "[[ 1  2  3  4  5]\n",
      " [ 6  7  8  9 10]]\n",
      "[[ 1  2]\n",
      " [ 3  4]\n",
      " [ 5  6]\n",
      " [ 7  8]\n",
      " [ 9 10]]\n",
      "1\n",
      "2\n",
      "3\n",
      "4\n",
      "5\n",
      "6\n",
      "7\n",
      "8\n",
      "9\n",
      "10\n",
      "1\n",
      "2\n",
      "3\n",
      "4\n",
      "5\n",
      "6\n",
      "7\n",
      "8\n",
      "9\n",
      "10\n"
     ]
    }
   ],
   "source": [
    "import time\n",
    "\n",
    "# creating range\n",
    "arr1 = np.arange(1,11)\n",
    "\n",
    "# creating 2D array\n",
    "arr_2d = arr1.reshape(2,5)\n",
    "print(arr_2d)\n",
    "\n",
    "# 5 rows and 2 columns\n",
    "arr_2dnew = arr_2d.reshape(5,2)\n",
    "print(arr_2dnew)\n",
    "\n",
    "# for iteration\n",
    "for row in arr_2d:\n",
    "    for element in row:\n",
    "        print(element)\n",
    "        time.sleep(0.5)\n",
    "\n",
    "# Or we can convert nD array into a single \n",
    "for i in np.nditer(arr_2d):\n",
    "    print(i)\n"
   ]
  },
  {
   "cell_type": "code",
   "execution_count": 8,
   "metadata": {},
   "outputs": [
    {
     "name": "stdout",
     "output_type": "stream",
     "text": [
      "(0, 0) 1\n",
      "(0, 1) 2\n",
      "(1, 0) 3\n",
      "(1, 1) 4\n",
      "(2, 0) 5\n",
      "(2, 1) 6\n",
      "(3, 0) 7\n",
      "(3, 1) 8\n",
      "(4, 0) 9\n",
      "(4, 1) 10\n",
      "[array([1, 2, 3]), array([4, 5, 6]), array([7, 8, 9])]\n",
      "[array([1, 2, 3]), array([4, 5]), array([6, 7]), array([8, 9])]\n"
     ]
    }
   ],
   "source": [
    "# print index of values\n",
    "for idx,i in np.ndenumerate(arr_2dnew):\n",
    "    print(idx,i)\n",
    "\n",
    "# splitting arrays\n",
    "arr1 = np.arange(1,10)\n",
    "print(np.split(arr1,3))\n",
    "\n",
    "# method 2: For split array into any number\n",
    "any_arr = np.array_split(arr1,4)\n",
    "print(any_arr)"
   ]
  },
  {
   "cell_type": "code",
   "execution_count": 9,
   "metadata": {},
   "outputs": [
    {
     "name": "stdout",
     "output_type": "stream",
     "text": [
      "[[1 1]\n",
      " [2 2]\n",
      " [3 3]]\n",
      "[[1 5 1]\n",
      " [2 5 2]\n",
      " [3 5 3]]\n"
     ]
    }
   ],
   "source": [
    "# creating 2d array\n",
    "a = np.array([[1,1],[2,2],[3,3]])\n",
    "print(a)\n",
    "\n",
    "# insert in a column\n",
    "a = np.insert(a,1,5,axis=1) # np.insert(array,position,value,axis)\n",
    "print(a)"
   ]
  },
  {
   "cell_type": "code",
   "execution_count": 10,
   "metadata": {},
   "outputs": [
    {
     "name": "stdout",
     "output_type": "stream",
     "text": [
      "column inserted...\n",
      " [[1 1 1]\n",
      " [2 2 2]\n",
      " [3 3 3]]\n"
     ]
    }
   ],
   "source": [
    "# insert a column with each element different\n",
    "a = np.array([[1,1],[2,2],[3,3]])\n",
    "a = np.insert(a,1,[1,2,3],axis=1)\n",
    "print(\"column inserted...\\n\", a)"
   ]
  },
  {
   "cell_type": "code",
   "execution_count": 11,
   "metadata": {},
   "outputs": [
    {
     "name": "stdout",
     "output_type": "stream",
     "text": [
      "[1 2 3 4 5 6 7 8 9]\n",
      "[[1 2 3]\n",
      " [4 5 6]\n",
      " [7 8 9]]\n"
     ]
    }
   ],
   "source": [
    "# append\n",
    "a = np.append([1,2,3],[[4,5,6],[7,8,9]])\n",
    "print(a)\n",
    "\n",
    "# appending a 2d array\n",
    "a = np.append([[1,2,3],[4,5,6]], [[7,8,9]], axis=0)\n",
    "print(a)"
   ]
  },
  {
   "cell_type": "code",
   "execution_count": 12,
   "metadata": {},
   "outputs": [
    {
     "name": "stdout",
     "output_type": "stream",
     "text": [
      "[[1 2 3]\n",
      " [4 5 6]\n",
      " [7 8 9]]\n",
      "[[1 2 3]\n",
      " [4 5 6]]\n"
     ]
    }
   ],
   "source": [
    "# delete\n",
    "x = np.arange(1,10).reshape(3,3)\n",
    "print(x)\n",
    "print(np.delete(x,2,axis=0))"
   ]
  },
  {
   "cell_type": "markdown",
   "metadata": {},
   "source": [
    "### Numpy Advanced Function\n",
    "* Randint\n",
    "* Rand\n",
    "* choice\n",
    "* Data distribution\n",
    "* Random permutation"
   ]
  },
  {
   "cell_type": "code",
   "execution_count": 13,
   "metadata": {},
   "outputs": [
    {
     "name": "stdout",
     "output_type": "stream",
     "text": [
      "95\n",
      "[[45 63  1]\n",
      " [35 57 46]\n",
      " [80 14 25]]\n",
      "fit_value: 0.39657589045152386\n",
      "the_num: [0.04192114 0.38101805 0.93900825]\n"
     ]
    }
   ],
   "source": [
    "import numpy as np\n",
    "from numpy import random\n",
    "\n",
    "x = random.randint(100) # to print any number btwn 0-99\n",
    "print(x)\n",
    "\n",
    "# print 2D array from above\n",
    "x1 = random.randint(100,size=(3,3))\n",
    "print(x1)\n",
    "\n",
    "# print float values btw 0 to 1\n",
    "fit_value = random.rand()\n",
    "print(f\"fit_value: {fit_value}\")\n",
    "\n",
    "# printing more than one value in above function\n",
    "the_num = random.rand(3)\n",
    "print(f\"the_num: {the_num}\")"
   ]
  },
  {
   "cell_type": "code",
   "execution_count": 14,
   "metadata": {},
   "outputs": [
    {
     "name": "stdout",
     "output_type": "stream",
     "text": [
      "7\n",
      "[[7 9]\n",
      " [7 9]\n",
      " [5 5]\n",
      " [7 5]\n",
      " [7 9]] \n",
      "\n",
      "[[5 5]\n",
      " [3 3]]\n"
     ]
    }
   ],
   "source": [
    "# from a list print any random element\n",
    "output = random.choice([3,5,7,9])\n",
    "print(output)\n",
    "output = random.choice([3,5,7,9],size=(5,2)) # adding a specific size\n",
    "print(output, \"\\n\")\n",
    "output = random.choice([3,5,7,9],size=(2,2))\n",
    "print(output)\n"
   ]
  },
  {
   "cell_type": "code",
   "execution_count": 15,
   "metadata": {},
   "outputs": [
    {
     "name": "stdout",
     "output_type": "stream",
     "text": [
      "[[9 7]\n",
      " [5 5]]\n",
      "\n",
      " [3 7 9 5]\n",
      "\n",
      " [9 5 3 7]\n"
     ]
    }
   ],
   "source": [
    "# data distribution\n",
    "\n",
    "from numpy import random\n",
    "\n",
    "choice = np.array([3,5,7,9])\n",
    "x2 = random.choice(choice, p=[0.2,0.3,0.4,0.1], size=[2,2])\n",
    "print(x2)\n",
    "\n",
    "# random data permutations\n",
    "\n",
    "# method 1: Original data permutated won't change\n",
    "permut = np.array(choice)\n",
    "check=random.permutation(permut)\n",
    "print(\"\\n\",check)\n",
    "\n",
    "# method 2: Original data will change\n",
    "random.shuffle(choice)\n",
    "print(\"\\n\",choice)\n"
   ]
  },
  {
   "cell_type": "markdown",
   "metadata": {},
   "source": [
    "### Numpy Advanced Operation II\n",
    "* Arithmetic\n",
    "* Reciprocal\n",
    "* Transpose\n",
    "* More operations"
   ]
  },
  {
   "cell_type": "code",
   "execution_count": 16,
   "metadata": {},
   "outputs": [
    {
     "name": "stdout",
     "output_type": "stream",
     "text": [
      "arr1:  [[0. 1. 2.]\n",
      " [3. 4. 5.]\n",
      " [6. 7. 8.]] \n",
      " arr2: [10 10 10]\n",
      "Addition:\n",
      "[[10. 11. 12.]\n",
      " [13. 14. 15.]\n",
      " [16. 17. 18.]]\n",
      "Subtraction:\n",
      "[[-10.  -9.  -8.]\n",
      " [ -7.  -6.  -5.]\n",
      " [ -4.  -3.  -2.]]\n",
      "Multiplication:\n",
      "[[ 0.  1.  4.]\n",
      " [ 9. 16. 25.]\n",
      " [36. 49. 64.]]\n",
      "Division:\n",
      "[[0.  0.1 0.2]\n",
      " [0.3 0.4 0.5]\n",
      " [0.6 0.7 0.8]]\n",
      "Power:\n",
      "[[0.00000000e+00 1.00000000e+00 1.02400000e+03]\n",
      " [5.90490000e+04 1.04857600e+06 9.76562500e+06]\n",
      " [6.04661760e+07 2.82475249e+08 1.07374182e+09]]\n"
     ]
    }
   ],
   "source": [
    "arr1 = np.arange(9,dtype=np.float_).reshape(3,3)\n",
    "arr2 = np.array([10,10,10])\n",
    "arr3 = np.array([10,11,12])\n",
    "\n",
    "print(\"arr1: \",arr1,\"\\n\",\"arr2:\",arr2)\n",
    "# Arithmetic ops\n",
    "# adding\n",
    "print('Addition:')\n",
    "print(np.add(arr1, arr2))\n",
    "\n",
    "# subtraction\n",
    "print(\"Subtraction:\")\n",
    "print(np.subtract(arr1,arr2))\n",
    "\n",
    "# multiplication\n",
    "print('Multiplication:')\n",
    "print(np.multiply(arr1,arr1))\n",
    "\n",
    "# division\n",
    "print('Division:')\n",
    "print(np.divide(arr1,arr2))\n",
    "\n",
    "# power\n",
    "print(\"Power:\")\n",
    "print(np.power(arr1,arr2))"
   ]
  },
  {
   "cell_type": "code",
   "execution_count": 17,
   "metadata": {},
   "outputs": [
    {
     "name": "stdout",
     "output_type": "stream",
     "text": [
      "Printing reciprocal...\n",
      "[4.         0.83333333 1.                inf 0.01      ]\n"
     ]
    },
    {
     "name": "stderr",
     "output_type": "stream",
     "text": [
      "C:\\Users\\Cyriaque Matthews\\AppData\\Local\\Temp\\ipykernel_3380\\2385691210.py:4: RuntimeWarning: divide by zero encountered in reciprocal\n",
      "  print(np.reciprocal(a))\n"
     ]
    }
   ],
   "source": [
    "# reciprocals in an array\n",
    "a = np.array([0.25,1.2,1.,0.,100.])\n",
    "print(\"Printing reciprocal...\")\n",
    "print(np.reciprocal(a))"
   ]
  },
  {
   "cell_type": "code",
   "execution_count": 18,
   "metadata": {},
   "outputs": [
    {
     "name": "stdout",
     "output_type": "stream",
     "text": [
      "Original Matrix:\n",
      "[[1 2 3 4]\n",
      " [5 6 7 8]]\n",
      "Transposed Matrix:\n",
      "[[1 5]\n",
      " [2 6]\n",
      " [3 7]\n",
      " [4 8]]\n",
      "\n",
      "Unix Matrix\n",
      "[[1 0 0]\n",
      " [0 1 0]\n",
      " [0 0 1]]\n",
      "Max value in matrix:  8\n",
      "Min value in matrix:  1\n",
      "Mean of matrix:  4.5\n",
      "Median of matrix:  4.5\n"
     ]
    }
   ],
   "source": [
    "# transpose\n",
    "arr_2d = np.array([[1,2,3,4],[5,6,7,8]])\n",
    "print(\"Original Matrix:\")\n",
    "print(arr_2d)\n",
    "print(\"Transposed Matrix:\")\n",
    "print(arr_2d.T)\n",
    "\n",
    "# unix matrix\n",
    "print(\"\\nUnix Matrix\")\n",
    "print(np.identity(3, dtype=int))\n",
    "\n",
    "# other operations\n",
    "print(\"Max value in matrix: \", np.amax(arr_2d))\n",
    "print(\"Min value in matrix: \", np.amin(arr_2d))\n",
    "print(\"Mean of matrix: \", np.mean(arr_2d))\n",
    "print(\"Median of matrix: \", np.median(arr_2d))\n"
   ]
  },
  {
   "cell_type": "markdown",
   "metadata": {},
   "source": [
    "#### Handling Matrices\n"
   ]
  },
  {
   "cell_type": "code",
   "execution_count": 19,
   "metadata": {},
   "outputs": [
    {
     "name": "stdout",
     "output_type": "stream",
     "text": [
      "[[1 2]\n",
      " [3 4]]\n",
      "<class 'numpy.matrix'>\n",
      "[[ 1  2  3  4]\n",
      " [ 5  6  7  8]\n",
      " [ 9 10 11 12]\n",
      " [13 14 15 16]]\n"
     ]
    }
   ],
   "source": [
    "from numpy import matrix as mtx\n",
    "\n",
    "# creating matrix\n",
    "# using strings\n",
    "a = mtx('1,2;3,4')\n",
    "print(a)\n",
    "print(type(a))\n",
    "\n",
    "# using arrays\n",
    "b = mtx([[1,5],[6,7]])\n",
    "\n",
    "# a big big one\n",
    "mat1 = mtx('1,2,3,4;5,6,7,8;9,10,11,12;13,14,15,16')\n",
    "print(mat1)"
   ]
  },
  {
   "cell_type": "code",
   "execution_count": 20,
   "metadata": {},
   "outputs": [
    {
     "name": "stdout",
     "output_type": "stream",
     "text": [
      "Dimensions:  2\n",
      "Size:  16\n",
      "Shape:  (4, 4)\n",
      ">> mat1.T\n",
      "[[ 1  5  9 13]\n",
      " [ 2  6 10 14]\n",
      " [ 3  7 11 15]\n",
      " [ 4  8 12 16]]\n",
      ">> mat1\n",
      "[[ 1  2  3  4]\n",
      " [ 5  6  7  8]\n",
      " [ 9 10 11 12]\n",
      " [13 14 15 16]]\n",
      ">> mat2=mat1.T\n",
      "[[ 1  5  9 13]\n",
      " [ 2  6 10 14]\n",
      " [ 3  7 11 15]\n",
      " [ 4  8 12 16]]\n",
      ">> mat2.base\n",
      "[[ 1  2  3  4]\n",
      " [ 5  6  7  8]\n",
      " [ 9 10 11 12]\n",
      " [13 14 15 16]]\n"
     ]
    }
   ],
   "source": [
    "# operations\n",
    "## checking dimensions\n",
    "print(\"Dimensions: \",mat1.ndim)\n",
    "\n",
    "## checking number of elements in matrix\n",
    "print(\"Size: \", mat1.size)\n",
    "# shape\n",
    "print(\"Shape: \",mat1.shape)\n",
    "\n",
    "# transpose\n",
    "print(\">> mat1.T\")\n",
    "print(mat1.T)\n",
    "print(\">> mat1\")\n",
    "print(mat1)\n",
    "print(\">> mat2=mat1.T\")\n",
    "mat2 = mat1.T\n",
    "print(mat2)\n",
    "print(\">> mat2.base\")\n",
    "print(mat2.base)"
   ]
  },
  {
   "cell_type": "code",
   "execution_count": 21,
   "metadata": {},
   "outputs": [
    {
     "name": "stdout",
     "output_type": "stream",
     "text": [
      "Addition of Matrices:\n",
      "[[ 2  7 12 17]\n",
      " [ 7 12 17 22]\n",
      " [12 17 22 27]\n",
      " [17 22 27 32]]\n",
      "Square root of Matrix: \n",
      "[[1.         1.41421356 1.73205081 2.        ]\n",
      " [2.23606798 2.44948974 2.64575131 2.82842712]\n",
      " [3.         3.16227766 3.31662479 3.46410162]\n",
      " [3.60555128 3.74165739 3.87298335 4.        ]]\n",
      "Addition via axis: \n",
      "[[10]\n",
      " [26]\n",
      " [42]\n",
      " [58]]\n"
     ]
    }
   ],
   "source": [
    "# more matrix operations - Arithmetic\n",
    "print('Addition of Matrices:')\n",
    "print(np.add(mat1,mat2))\n",
    "print(\"Square root of Matrix: \")\n",
    "print(np.sqrt(mat1))\n",
    "print(\"Addition via axis: \")\n",
    "print(np.sum(mat1,axis=1))"
   ]
  },
  {
   "cell_type": "code",
   "execution_count": 22,
   "metadata": {},
   "outputs": [
    {
     "name": "stdout",
     "output_type": "stream",
     "text": [
      "15\n",
      "0\n",
      "[['1' '5' '9' '13']\n",
      " ['2' '6' '10' '14']\n",
      " ['3' '7' '11' '15']\n",
      " ['4' '8' '12' '16']]\n",
      "mat2: \n",
      "[[ 1  5  9 13]\n",
      " [ 2  6 10 14]\n",
      " [ 3  7 11 15]\n",
      " [ 4  8 12 16]]\n",
      "Clipped! \n",
      "[[ 3  5  9 10]\n",
      " [ 3  6 10 10]\n",
      " [ 3  7 10 10]\n",
      " [ 4  8 10 10]]\n"
     ]
    }
   ],
   "source": [
    "# max index value. Note it is different from max value; np.amax()\n",
    "print(mat1.argmax())\n",
    "# min index value\n",
    "print(mat1.argmin())\n",
    "\n",
    "# converting data type\n",
    "print(mat2.astype(str))\n",
    "\n",
    "print(\"mat2: \")\n",
    "print(mat2)\n",
    "\n",
    "# Clip method. Any number >3 is converted to 3 and\n",
    "# any number <10 is converted to 10\n",
    "print(\"Clipped! \")\n",
    "print(np.clip(mat2,3,10)) "
   ]
  },
  {
   "cell_type": "code",
   "execution_count": 23,
   "metadata": {},
   "outputs": [
    {
     "name": "stdout",
     "output_type": "stream",
     "text": [
      "By row compress:\n",
      " [[ 2  6 10 14]\n",
      " [ 4  8 12 16]]\n",
      "By column compress:\n",
      " [[ 5 13]\n",
      " [ 6 14]\n",
      " [ 7 15]\n",
      " [ 8 16]]\n",
      "mat3:\n",
      " [[1 1 1 1]\n",
      " [1 1 1 1]\n",
      " [1 1 1 1]\n",
      " [1 1 1 1]]\n"
     ]
    }
   ],
   "source": [
    "# compress method. Choosing which row/column to prin\n",
    "print(\"By row compress:\\n\", np.compress([0,1,0,1], mat2, axis=0))\n",
    "print(\"By column compress:\\n\", np.compress([0,1,0,1], mat2, axis=1))\n",
    "\n",
    "# fill function\n",
    "mat3 = mat2.copy()\n",
    "mat3.fill(1.5)\n",
    "print(\"mat3:\\n\",mat3)"
   ]
  },
  {
   "cell_type": "code",
   "execution_count": 24,
   "metadata": {},
   "outputs": [
    {
     "name": "stdout",
     "output_type": "stream",
     "text": [
      "mat1:\n",
      "[[ 1  2  3  4]\n",
      " [ 5  6  7  8]\n",
      " [ 9 10 11 12]\n",
      " [13 14 15 16]]\n",
      "Cummulative Prod:\n",
      "[[    1     2     6    24]\n",
      " [    5    30   210  1680]\n",
      " [    9    90   990 11880]\n",
      " [   13   182  2730 43680]]\n",
      "Cummulative Sum:\n",
      "[[  1   3   6  10  15  21  28  36  45  55  66  78  91 105 120 136]]\n"
     ]
    }
   ],
   "source": [
    "print(\"mat1:\")\n",
    "print(mat1)\n",
    "\n",
    "# cummulative product\n",
    "print(\"Cummulative Prod:\")\n",
    "print(np.cumprod(mat1,axis=1))\n",
    "\n",
    "# cummulative sum\n",
    "print(\"Cummulative Sum:\")\n",
    "print(np.cumsum(mat1))"
   ]
  },
  {
   "cell_type": "code",
   "execution_count": 25,
   "metadata": {},
   "outputs": [
    {
     "name": "stdout",
     "output_type": "stream",
     "text": [
      ">> mat1 diag:\n",
      "[[ 1  6 11 16]]\n",
      ">> Flip up down:\n",
      "[[13 14 15 16]\n",
      " [ 9 10 11 12]\n",
      " [ 5  6  7  8]\n",
      " [ 1  2  3  4]]\n",
      ">> Print left right:\n",
      "[[ 4  3  2  1]\n",
      " [ 8  7  6  5]\n",
      " [12 11 10  9]\n",
      " [16 15 14 13]]\n"
     ]
    }
   ],
   "source": [
    "# getting matrix diagonal\n",
    "print(\">> mat1 diag:\")\n",
    "print(mat1.diagonal())\n",
    "\n",
    "# flipping matrix up down\n",
    "print(\">> Flip up down:\")\n",
    "print(np.flipud(mat1))\n",
    "\n",
    "# flipping matrix left right\n",
    "print(\">> Print left right:\")\n",
    "print(np.fliplr(mat1))"
   ]
  },
  {
   "cell_type": "code",
   "execution_count": 26,
   "metadata": {},
   "outputs": [
    {
     "name": "stdout",
     "output_type": "stream",
     "text": [
      "[[ 1  2  3  4]\n",
      " [ 5  6  7  8]\n",
      " [ 9 10 11 12]\n",
      " [13 14 15 16]]\n",
      "[[  1   2   3   4]\n",
      " [  5   6   7   8]\n",
      " [  9  10  11 100]\n",
      " [ 13  14  15  16]]\n"
     ]
    }
   ],
   "source": [
    "print(mat1)\n",
    "mat1[2,3] = 100\n",
    "print(mat1)"
   ]
  },
  {
   "cell_type": "code",
   "execution_count": 27,
   "metadata": {},
   "outputs": [
    {
     "name": "stdout",
     "output_type": "stream",
     "text": [
      "[[  5   6   7   8]\n",
      " [  9  10  11 100]\n",
      " [ 13  14  15  16]]\n",
      "[[  7   8]\n",
      " [ 11 100]\n",
      " [ 15  16]]\n"
     ]
    }
   ],
   "source": [
    "print(mat1[1:])\n",
    "print(mat1[1:,2:])"
   ]
  },
  {
   "cell_type": "code",
   "execution_count": 28,
   "metadata": {},
   "outputs": [
    {
     "name": "stdout",
     "output_type": "stream",
     "text": [
      "[[  4]\n",
      " [  8]\n",
      " [100]\n",
      " [ 16]]\n",
      "[[1 2 3 4]]\n"
     ]
    }
   ],
   "source": [
    "# maximum value on each row\n",
    "print(mat1.max(1))\n",
    "\n",
    "# minimum value on each column\n",
    "print(mat1.min(0))"
   ]
  },
  {
   "cell_type": "code",
   "execution_count": 29,
   "metadata": {},
   "outputs": [
    {
     "data": {
      "text/plain": [
       "(array([0, 0, 0, 0, 1, 1, 1, 1, 2, 2, 2, 2, 3, 3, 3, 3], dtype=int64),\n",
       " array([0, 1, 2, 3, 0, 1, 2, 3, 0, 1, 2, 3, 0, 1, 2, 3], dtype=int64))"
      ]
     },
     "execution_count": 29,
     "metadata": {},
     "output_type": "execute_result"
    }
   ],
   "source": [
    "# finding location of nonzero values in mat1\n",
    "mat1.nonzero()"
   ]
  },
  {
   "cell_type": "code",
   "execution_count": 30,
   "metadata": {},
   "outputs": [
    {
     "name": "stdout",
     "output_type": "stream",
     "text": [
      ">> mat1:\n",
      "[[  1   2   3   4]\n",
      " [  5   6   7   8]\n",
      " [  9  10  11 100]\n",
      " [ 13  14  15  16]]\n",
      ">> Product of each row\n",
      "[[   24]\n",
      " [ 1680]\n",
      " [99000]\n",
      " [43680]]\n",
      ">> Product of each column\n",
      "[[  585  1680  3465 51200]]\n"
     ]
    }
   ],
   "source": [
    "print(\">> mat1:\")\n",
    "print(mat1)\n",
    "\n",
    "print(\">> Product of each row\")\n",
    "print(mat1.prod(1))\n",
    "\n",
    "print(\">> Product of each column\")\n",
    "print(mat1.prod(0))"
   ]
  },
  {
   "cell_type": "code",
   "execution_count": 31,
   "metadata": {},
   "outputs": [
    {
     "name": "stdout",
     "output_type": "stream",
     "text": [
      "arr:  [[1 2 3]]\n",
      "<class 'numpy.matrix'>\n",
      "[[1 1 2 2 3 3]]\n",
      "[[1 1 1 2 2 2 3 3 3]]\n"
     ]
    }
   ],
   "source": [
    "arr = mtx([1,2,3])\n",
    "print(\"arr: \",arr)\n",
    "print(type(arr))\n",
    "r=2\n",
    "print(mtx.repeat(arr,r))\n",
    "print(mtx.repeat(arr,3))"
   ]
  },
  {
   "cell_type": "markdown",
   "metadata": {},
   "source": [
    "# Data Mining\n",
    "#### Web Scraping"
   ]
  },
  {
   "cell_type": "code",
   "execution_count": 32,
   "metadata": {},
   "outputs": [
    {
     "name": "stdout",
     "output_type": "stream",
     "text": [
      "Functions under page var: \n",
      "['__attrs__', '__bool__', '__class__', '__delattr__', '__dict__', '__dir__', '__doc__', '__enter__', '__eq__', '__exit__', '__format__', '__ge__', '__getattribute__', '__getstate__', '__gt__', '__hash__', '__init__', '__init_subclass__', '__iter__', '__le__', '__lt__', '__module__', '__ne__', '__new__', '__nonzero__', '__reduce__', '__reduce_ex__', '__repr__', '__setattr__', '__setstate__', '__sizeof__', '__str__', '__subclasshook__', '__weakref__', '_content', '_content_consumed', '_next', 'apparent_encoding', 'close', 'connection', 'content', 'cookies', 'elapsed', 'encoding', 'headers', 'history', 'is_permanent_redirect', 'is_redirect', 'iter_content', 'iter_lines', 'json', 'links', 'next', 'ok', 'raise_for_status', 'raw', 'reason', 'request', 'status_code', 'text', 'url'] \n",
      "\n",
      "My website .. https://lnbspace.github.io/  is working fine\n",
      "b'<!DOCTYPE html>\\n<html lang=\"en\">\\n<head>\\n    <title>lnb</title>\\n    <link rel=\"stylesheet\" href=\"style.css\">\\n</head>\\n<body>\\n    <h1> Hello world </h1>\\n    <h2> welcome to Learn and build </h2>\\n    <h1> Hello Ashutoshh </h1>\\n\\n  <div class=\"lnbclass\">\\n\\t <h1> this is AI the super future </h1>\\n \\t <h2>This is a heading in a div element</h2>\\n  \\t<p>This is some text in a div element.</p>\\n  </div>\\n  <div class=\"lnbai\">\\n\\t <h1> this is AI </h1>\\n \\t <h2>This is ashutoshh </h2>\\n  \\t<p>We are building future ...</p>\\n  </div>\\n</body>\\n\\n</html>\\n'\n",
      "\n",
      "Now in a better format: \n",
      "<!DOCTYPE html>\n",
      "<html lang=\"en\">\n",
      "<head>\n",
      "    <title>lnb</title>\n",
      "    <link rel=\"stylesheet\" href=\"style.css\">\n",
      "</head>\n",
      "<body>\n",
      "    <h1> Hello world </h1>\n",
      "    <h2> welcome to Learn and build </h2>\n",
      "    <h1> Hello Ashutoshh </h1>\n",
      "\n",
      "  <div class=\"lnbclass\">\n",
      "\t <h1> this is AI the super future </h1>\n",
      " \t <h2>This is a heading in a div element</h2>\n",
      "  \t<p>This is some text in a div element.</p>\n",
      "  </div>\n",
      "  <div class=\"lnbai\">\n",
      "\t <h1> this is AI </h1>\n",
      " \t <h2>This is ashutoshh </h2>\n",
      "  \t<p>We are building future ...</p>\n",
      "  </div>\n",
      "</body>\n",
      "\n",
      "</html>\n",
      "\n"
     ]
    }
   ],
   "source": [
    "import requests, time\n",
    "# use requests module to connect website like a web browser\n",
    "mywebsite = \"https://lnbspace.github.io/\"\n",
    "\n",
    "# connecting to the web\n",
    "page = requests.get(mywebsite)\n",
    "\n",
    "# what are the functions under page var?\n",
    "print(\"Functions under page var: \")\n",
    "print(dir(page),\"\\n\")\n",
    "# checking http status code\n",
    "if page.status_code == 200:\n",
    "    print(\"My website ..\", mywebsite, \" is working fine\")\n",
    "    # print content\n",
    "    print(page.content)\n",
    "\n",
    "    # printing in better format\n",
    "    print(\"\\nNow in a better format: \")\n",
    "    time.sleep(2)\n",
    "    print(page.text) # better format\n",
    "else:\n",
    "    print(\"check your URL ...please\")"
   ]
  },
  {
   "cell_type": "markdown",
   "metadata": {},
   "source": [
    "#### Webscraping"
   ]
  },
  {
   "cell_type": "code",
   "execution_count": 37,
   "metadata": {},
   "outputs": [
    {
     "name": "stdout",
     "output_type": "stream",
     "text": [
      "b'<!DOCTYPE html>\\n<html lang=\"en\">\\n<head>\\n    <title>lnb</title>\\n    <link rel=\"stylesheet\" href=\"style.css\">\\n</head>\\n<body>\\n    <h1> Hello world </h1>\\n    <h2> welcome to Learn and build </h2>\\n    <h1> Hello Ashutoshh </h1>\\n\\n  <div class=\"lnbclass\">\\n\\t <h1> this is AI the super future </h1>\\n \\t <h2>This is a heading in a div element</h2>\\n  \\t<p>This is some text in a div element.</p>\\n  </div>\\n  <div class=\"lnbai\">\\n\\t <h1> this is AI </h1>\\n \\t <h2>This is ashutoshh </h2>\\n  \\t<p>We are building future ...</p>\\n  </div>\\n</body>\\n\\n</html>\\n'\n",
      "\n",
      "Printing `soup`...\n",
      "<!DOCTYPE html>\n",
      "<html lang=\"en\"><head>\n",
      "    <title>lnb</title>\n",
      "    <link href=\"style.css\" rel=\"stylesheet\"/>\n",
      "</head>\n",
      "<body>\n",
      "    <h1> Hello world </h1>\n",
      "    <h2> welcome to Learn and build </h2>\n",
      "    <h1> Hello Ashutoshh </h1>\n",
      "\n",
      "  <div class=\"lnbclass\">\n",
      "\t <h1> this is AI the super future </h1>\n",
      " \t <h2>This is a heading in a div element</h2>\n",
      "  \t<p>This is some text in a div element.</p>\n",
      "  </div>\n",
      "  <div class=\"lnbai\">\n",
      "\t <h1> this is AI </h1>\n",
      " \t <h2>This is ashutoshh </h2>\n",
      "  \t<p>We are building future ...</p>\n",
      "  </div>\n",
      "\n",
      "\n",
      "\n",
      "</body></html>\n",
      "\n",
      "title data is getting printed..\n",
      "<title>lnb</title>\n",
      "\n",
      "printing the text now..\n",
      "lnb\n"
     ]
    }
   ],
   "source": [
    "from bs4 import BeautifulSoup\n",
    "url = \"https://lnbspace.github.io/\"\n",
    "\n",
    "# connecting to web\n",
    "page = requests.get(url)\n",
    "print(page.content)\n",
    "\n",
    "# scraping using bs4\n",
    "soup = BeautifulSoup(page.content, \"html5lib\") # html5lib is a parser\n",
    "# html5lib undertands tags of html\n",
    "# parser list - html5lib, lxml, html.parser\n",
    "\n",
    "print(\"\\nPrinting `soup`...\")\n",
    "time.sleep(1)\n",
    "print(soup)\n",
    "\n",
    "# printing title only\n",
    "print(\"\\ntitle data is getting printed..\")\n",
    "time.sleep(1)\n",
    "print(soup.title)\n",
    "print(\"\\nprinting the text now..\")\n",
    "time.sleep(1)\n",
    "print(soup.title.text)"
   ]
  },
  {
   "cell_type": "code",
   "execution_count": 34,
   "metadata": {},
   "outputs": [
    {
     "name": "stdout",
     "output_type": "stream",
     "text": [
      "\n",
      "    lnb\n",
      "    \n",
      "\n",
      "<body>\n",
      "    <h1> Hello world </h1>\n",
      "    <h2> welcome to Learn and build </h2>\n",
      "    <h1> Hello Ashutoshh </h1>\n",
      "\n",
      "  <div class=\"lnbclass\">\n",
      "\t <h1> this is AI the super future </h1>\n",
      " \t <h2>This is a heading in a div element</h2>\n",
      "  \t<p>This is some text in a div element.</p>\n",
      "  </div>\n",
      "  <div class=\"lnbai\">\n",
      "\t <h1> this is AI </h1>\n",
      " \t <h2>This is ashutoshh </h2>\n",
      "  \t<p>We are building future ...</p>\n",
      "  </div>\n",
      "\n",
      "\n",
      "\n",
      "</body>\n",
      "\n",
      "Now the text: \n",
      "\n",
      "     Hello world \n",
      "     welcome to Learn and build \n",
      "     Hello Ashutoshh \n",
      "\n",
      "  \n",
      "\t  this is AI the super future \n",
      " \t This is a heading in a div element\n",
      "  \tThis is some text in a div element.\n",
      "  \n",
      "  \n",
      "\t  this is AI \n",
      " \t This is ashutoshh \n",
      "  \tWe are building future ...\n",
      "  \n",
      "\n",
      "\n",
      "\n",
      "\n"
     ]
    }
   ],
   "source": [
    "# printing head tag\n",
    "print(soup.head.text)\n",
    "# printing body tag\n",
    "print(soup.body)\n",
    "print(\"\\nNow the text: \")\n",
    "time.sleep(1)\n",
    "print(soup.body.text)\n"
   ]
  },
  {
   "cell_type": "markdown",
   "metadata": {},
   "source": [
    "#### Parsing Tag Based Data"
   ]
  },
  {
   "cell_type": "code",
   "execution_count": 47,
   "metadata": {},
   "outputs": [
    {
     "name": "stdout",
     "output_type": "stream",
     "text": [
      "printing h1 tag data ...\n",
      "[<h1> Hello world </h1>, <h1> Hello Ashutoshh </h1>, <h1> this is AI the super future </h1>, <h1> this is AI </h1>]\n",
      "printing only first h1 data\n",
      "<h1> Hello world </h1>\n",
      " Hello world \n",
      " Hello Ashutoshh \n",
      " this is AI the super future \n",
      " this is AI \n"
     ]
    }
   ],
   "source": [
    "# selecting h1 tag only\n",
    "h1_data = soup.select('h1')\n",
    "print(\"printing h1 tag data ...\")\n",
    "time.sleep(1)\n",
    "print(h1_data)\n",
    "\n",
    "# printing only first h1 data\n",
    "print(\"printing only first h1 data\")\n",
    "time.sleep(1)\n",
    "print(h1_data[0])\n",
    "\n",
    "# printing all h1 tag data\n",
    "time.sleep(2)\n",
    "for data in h1_data:\n",
    "    print(data.text)"
   ]
  },
  {
   "cell_type": "code",
   "execution_count": 51,
   "metadata": {},
   "outputs": [
    {
     "name": "stdout",
     "output_type": "stream",
     "text": [
      " Hello world \n",
      " Hello Ashutoshh \n",
      " this is AI the super future \n",
      " this is AI \n",
      "printing data in a single list [' Hello world ', ' Hello Ashutoshh ', ' this is AI the super future ', ' this is AI ']\n"
     ]
    }
   ],
   "source": [
    "# storing in a list\n",
    "list_data = []\n",
    "\n",
    "for data in h1_data:\n",
    "    print(data.text)\n",
    "    list_data.append(data.text)\n",
    "\n",
    "print(\"printing data in a single list\", list_data)\n",
    "\n",
    "# storing data in a file\n",
    "f1 = open(\"myh1data.txt\", 'w')\n",
    "\n",
    "for data in h1_data:\n",
    "    f1.write(data.text)"
   ]
  },
  {
   "cell_type": "code",
   "execution_count": null,
   "metadata": {},
   "outputs": [],
   "source": []
  }
 ],
 "metadata": {
  "interpreter": {
   "hash": "1206a4f2d6f64ed28b08c3544e67299a5b762789ddcc45660f3f6eefedb1bf11"
  },
  "kernelspec": {
   "display_name": "Python 3.9.7 ('base')",
   "language": "python",
   "name": "python3"
  },
  "language_info": {
   "codemirror_mode": {
    "name": "ipython",
    "version": 3
   },
   "file_extension": ".py",
   "mimetype": "text/x-python",
   "name": "python",
   "nbconvert_exporter": "python",
   "pygments_lexer": "ipython3",
   "version": "3.9.7"
  },
  "orig_nbformat": 4,
  "vscode": {
   "interpreter": {
    "hash": "1206a4f2d6f64ed28b08c3544e67299a5b762789ddcc45660f3f6eefedb1bf11"
   }
  }
 },
 "nbformat": 4,
 "nbformat_minor": 2
}
