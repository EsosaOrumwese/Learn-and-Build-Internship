{
 "cells": [
  {
   "cell_type": "markdown",
   "id": "89c3cda0",
   "metadata": {},
   "source": [
    "# Pre - Data Science\n",
    "### Use of PIP command"
   ]
  },
  {
   "cell_type": "code",
   "execution_count": 1,
   "id": "569ab2c3",
   "metadata": {},
   "outputs": [
    {
     "name": "stdout",
     "output_type": "stream",
     "text": [
      "\n",
      "Usage:   \n",
      "  pip3 <command> [options]\n",
      "\n",
      "Commands:\n",
      "  install                     Install packages.\n",
      "  download                    Download packages.\n",
      "  uninstall                   Uninstall packages.\n",
      "  freeze                      Output installed packages in requirements format.\n",
      "  list                        List installed packages.\n",
      "  show                        Show information about installed packages.\n",
      "  check                       Verify installed packages have compatible dependencies.\n",
      "  config                      Manage local and global configuration.\n",
      "  search                      Search PyPI for packages.\n",
      "  cache                       Inspect and manage pip's wheel cache.\n",
      "  index                       Inspect information available from package indexes.\n",
      "  wheel                       Build wheels from your requirements.\n",
      "  hash                        Compute hashes of package archives.\n",
      "  completion                  A helper command used for command completion.\n",
      "  debug                       Show information useful for debugging.\n",
      "  help                        Show help for commands.\n",
      "\n",
      "General Options:\n",
      "  -h, --help                  Show help.\n",
      "  --isolated                  Run pip in an isolated mode, ignoring\n",
      "                              environment variables and user configuration.\n",
      "  -v, --verbose               Give more output. Option is additive, and can be\n",
      "                              used up to 3 times.\n",
      "  -V, --version               Show version and exit.\n",
      "  -q, --quiet                 Give less output. Option is additive, and can be\n",
      "                              used up to 3 times (corresponding to WARNING,\n",
      "                              ERROR, and CRITICAL logging levels).\n",
      "  --log <path>                Path to a verbose appending log.\n",
      "  --no-input                  Disable prompting for input.\n",
      "  --proxy <proxy>             Specify a proxy in the form\n",
      "                              [user:passwd@]proxy.server:port.\n",
      "  --retries <retries>         Maximum number of retries each connection should\n",
      "                              attempt (default 5 times).\n",
      "  --timeout <sec>             Set the socket timeout (default 15 seconds).\n",
      "  --exists-action <action>    Default action when a path already exists:\n",
      "                              (s)witch, (i)gnore, (w)ipe, (b)ackup, (a)bort.\n",
      "  --trusted-host <hostname>   Mark this host or host:port pair as trusted,\n",
      "                              even though it does not have valid or any HTTPS.\n",
      "  --cert <path>               Path to PEM-encoded CA certificate bundle. If\n",
      "                              provided, overrides the default. See 'SSL\n",
      "                              Certificate Verification' in pip documentation\n",
      "                              for more information.\n",
      "  --client-cert <path>        Path to SSL client certificate, a single file\n",
      "                              containing the private key and the certificate\n",
      "                              in PEM format.\n",
      "  --cache-dir <dir>           Store the cache data in <dir>.\n",
      "  --no-cache-dir              Disable the cache.\n",
      "  --disable-pip-version-check\n",
      "                              Don't periodically check PyPI to determine\n",
      "                              whether a new version of pip is available for\n",
      "                              download. Implied with --no-index.\n",
      "  --no-color                  Suppress colored output.\n",
      "  --no-python-version-warning\n",
      "                              Silence deprecation warnings for upcoming\n",
      "                              unsupported Pythons.\n",
      "  --use-feature <feature>     Enable new functionality, that may be backward\n",
      "                              incompatible.\n",
      "  --use-deprecated <feature>  Enable deprecated functionality, that will be\n",
      "                              removed in the future.\n"
     ]
    }
   ],
   "source": [
    "!pip3"
   ]
  },
  {
   "cell_type": "code",
   "execution_count": 2,
   "id": "2904918e",
   "metadata": {},
   "outputs": [
    {
     "name": "stdout",
     "output_type": "stream",
     "text": [
      "pip 21.2.4 from C:\\Users\\Cyriaque Matthews\\anaconda3\\lib\\site-packages\\pip (python 3.9)\n",
      "\n"
     ]
    }
   ],
   "source": [
    "!pip3 --version"
   ]
  },
  {
   "cell_type": "code",
   "execution_count": 3,
   "id": "695771d7",
   "metadata": {},
   "outputs": [
    {
     "name": "stdout",
     "output_type": "stream",
     "text": [
      "Package                            Version\n",
      "---------------------------------- --------------------\n",
      "alabaster                          0.7.12\n",
      "anaconda-client                    1.9.0\n",
      "anaconda-navigator                 2.1.1\n",
      "anaconda-project                   0.10.1\n",
      "anyio                              3.5.0\n",
      "appdirs                            1.4.4\n",
      "argh                               0.26.2\n",
      "argon2-cffi                        20.1.0\n",
      "arrow                              0.13.1\n",
      "asn1crypto                         1.4.0\n",
      "astroid                            2.6.6\n",
      "astropy                            4.3.1\n",
      "async-generator                    1.10\n",
      "atomicwrites                       1.4.0\n",
      "attrs                              21.2.0\n",
      "autopep8                           1.5.7\n",
      "Babel                              2.9.1\n",
      "backcall                           0.2.0\n",
      "backports.functools-lru-cache      1.6.4\n",
      "backports.shutil-get-terminal-size 1.0.0\n",
      "backports.tempfile                 1.0\n",
      "backports.weakref                  1.0.post1\n",
      "bcrypt                             3.2.0\n",
      "beautifulsoup4                     4.10.0\n",
      "binaryornot                        0.4.4\n",
      "bitarray                           2.3.0\n",
      "bkcharts                           0.2\n",
      "black                              19.10b0\n",
      "bleach                             4.0.0\n",
      "bokeh                              2.4.1\n",
      "boto                               2.49.0\n",
      "Bottleneck                         1.3.2\n",
      "brotlipy                           0.7.0\n",
      "cached-property                    1.5.2\n",
      "certifi                            2021.10.8\n",
      "cffi                               1.14.6\n",
      "chardet                            4.0.0\n",
      "charset-normalizer                 2.0.4\n",
      "click                              8.0.3\n",
      "cloudpickle                        2.0.0\n",
      "clyent                             1.2.2\n",
      "colorama                           0.4.4\n",
      "common                             0.1.2\n",
      "comtypes                           1.1.10\n",
      "conda                              4.12.0\n",
      "conda-build                        3.21.6\n",
      "conda-content-trust                0+unknown\n",
      "conda-pack                         0.6.0\n",
      "conda-package-handling             1.7.3\n",
      "conda-repo-cli                     1.0.4\n",
      "conda-token                        0.3.0\n",
      "conda-verify                       3.4.2\n",
      "contextlib2                        0.6.0.post1\n",
      "cookiecutter                       1.7.2\n",
      "cryptography                       3.4.8\n",
      "cycler                             0.10.0\n",
      "Cython                             0.29.24\n",
      "cytoolz                            0.11.0\n",
      "daal4py                            2021.3.0\n",
      "dask                               2021.10.0\n",
      "debugpy                            1.4.1\n",
      "decorator                          5.1.0\n",
      "defusedxml                         0.7.1\n",
      "diff-match-patch                   20200713\n",
      "distributed                        2021.10.0\n",
      "dmba                               0.0.19\n",
      "docutils                           0.17.1\n",
      "entrypoints                        0.3\n",
      "et-xmlfile                         1.1.0\n",
      "fastcache                          1.1.0\n",
      "fastjsonschema                     2.15.3\n",
      "filelock                           3.3.1\n",
      "flake8                             3.9.2\n",
      "Flask                              1.1.2\n",
      "fonttools                          4.25.0\n",
      "fsspec                             2021.10.1\n",
      "future                             0.18.2\n",
      "gevent                             21.8.0\n",
      "glob2                              0.7\n",
      "greenlet                           1.1.1\n",
      "h5py                               3.2.1\n",
      "HeapDict                           1.0.1\n",
      "html5lib                           1.1\n",
      "htmlmin                            0.1.12\n",
      "idna                               3.2\n",
      "imagecodecs                        2021.8.26\n",
      "ImageHash                          4.2.1\n",
      "imageio                            2.9.0\n",
      "imagesize                          1.2.0\n",
      "importlib-metadata                 4.8.1\n",
      "inflection                         0.5.1\n",
      "iniconfig                          1.1.1\n",
      "intervaltree                       3.1.0\n",
      "ipykernel                          6.13.0\n",
      "ipython                            7.29.0\n",
      "ipython-genutils                   0.2.0\n",
      "ipywidgets                         7.6.5\n",
      "isort                              5.9.3\n",
      "itsdangerous                       2.0.1\n",
      "jdcal                              1.4.1\n",
      "jedi                               0.18.0\n",
      "Jinja2                             3.1.1\n",
      "jinja2-time                        0.2.0\n",
      "joblib                             1.1.0\n",
      "json5                              0.9.6\n",
      "jsonschema                         3.2.0\n",
      "jupyter                            1.0.0\n",
      "jupyter-client                     6.1.12\n",
      "jupyter-console                    6.4.0\n",
      "jupyter-contrib-core               0.3.3\n",
      "jupyter-contrib-nbextensions       0.5.1\n",
      "jupyter-core                       4.8.1\n",
      "jupyter-highlight-selected-word    0.2.0\n",
      "jupyter-http-over-ws               0.0.8\n",
      "jupyter-latex-envs                 1.4.6\n",
      "jupyter-nbextensions-configurator  0.4.1\n",
      "jupyter-server                     1.16.0\n",
      "jupyterlab                         3.3.2\n",
      "jupyterlab-pygments                0.1.2\n",
      "jupyterlab-server                  2.12.0\n",
      "jupyterlab-widgets                 1.0.0\n",
      "keyring                            23.1.0\n",
      "kiwisolver                         1.3.1\n",
      "lazy-object-proxy                  1.6.0\n",
      "libarchive-c                       2.9\n",
      "lightgbm                           3.3.2\n",
      "llvmlite                           0.37.0\n",
      "locket                             0.2.1\n",
      "lxml                               4.6.3\n",
      "MarkupSafe                         2.0.1\n",
      "matplotlib                         3.4.3\n",
      "matplotlib-inline                  0.1.2\n",
      "mccabe                             0.6.1\n",
      "menuinst                           1.4.18\n",
      "missingno                          0.5.1\n",
      "mistune                            0.8.4\n",
      "mkl-fft                            1.3.1\n",
      "mkl-random                         1.2.2\n",
      "mkl-service                        2.4.0\n",
      "mock                               4.0.3\n",
      "more-itertools                     8.10.0\n",
      "mpmath                             1.2.1\n",
      "msgpack                            1.0.2\n",
      "multimethod                        1.7\n",
      "multipledispatch                   0.6.0\n",
      "munkres                            1.1.4\n",
      "mypy-extensions                    0.4.3\n",
      "navigator-updater                  0.2.1\n",
      "nbclassic                          0.2.6\n",
      "nbclient                           0.5.3\n",
      "nbconvert                          6.4.5\n",
      "nbformat                           5.3.0\n",
      "nest-asyncio                       1.5.1\n",
      "networkx                           2.6.3\n",
      "nltk                               3.6.5\n",
      "nose                               1.3.7\n",
      "notebook                           6.4.10\n",
      "numba                              0.54.1\n",
      "numexpr                            2.7.3\n",
      "numpy                              1.20.3\n",
      "numpydoc                           1.1.0\n",
      "olefile                            0.46\n",
      "openpyxl                           3.0.9\n",
      "packaging                          21.0\n",
      "pandas                             1.3.4\n",
      "pandas-profiling                   3.1.1\n",
      "pandocfilters                      1.4.3\n",
      "paramiko                           2.7.2\n",
      "parso                              0.8.2\n",
      "partd                              1.2.0\n",
      "path                               16.0.0\n",
      "pathlib2                           2.3.6\n",
      "pathspec                           0.7.0\n",
      "patsy                              0.5.2\n",
      "pep8                               1.7.1\n",
      "pexpect                            4.8.0\n",
      "phik                               0.12.2\n",
      "pickleshare                        0.7.5\n",
      "Pillow                             8.4.0\n",
      "pip                                22.0.4\n",
      "pkginfo                            1.7.1\n",
      "plotly                             5.6.0\n",
      "pluggy                             0.13.1\n",
      "ply                                3.11\n",
      "poyo                               0.5.0\n",
      "prometheus-client                  0.11.0\n",
      "prompt-toolkit                     3.0.20\n",
      "psutil                             5.8.0\n",
      "ptyprocess                         0.7.0\n",
      "py                                 1.10.0\n",
      "pycodestyle                        2.7.0\n",
      "pycosat                            0.6.3\n",
      "pycparser                          2.20\n",
      "pycurl                             7.44.1\n",
      "pydantic                           1.9.0\n",
      "pydocstyle                         6.1.1\n",
      "pyerfa                             2.0.0\n",
      "pyflakes                           2.3.1\n",
      "Pygments                           2.10.0\n",
      "PyJWT                              2.1.0\n",
      "pylint                             2.9.6\n",
      "pyls-spyder                        0.4.0\n",
      "PyNaCl                             1.4.0\n",
      "pyodbc                             4.0.0-unsupported\n",
      "pyOpenSSL                          21.0.0\n",
      "pyparsing                          3.0.4\n",
      "PyQt5                              5.15.6\n",
      "PyQt5-Qt5                          5.15.2\n",
      "PyQt5-sip                          12.9.1\n",
      "pyreadline                         2.1\n",
      "pyrsistent                         0.18.0\n",
      "PySocks                            1.7.1\n",
      "pytest                             6.2.4\n",
      "python-dateutil                    2.8.2\n",
      "python-lsp-black                   1.0.0\n",
      "python-lsp-jsonrpc                 1.0.0\n",
      "python-lsp-server                  1.2.4\n",
      "python-slugify                     5.0.2\n",
      "pytz                               2021.3\n",
      "PyWavelets                         1.1.1\n",
      "pywin32                            228\n",
      "pywin32-ctypes                     0.2.0\n",
      "pywinpty                           0.5.7\n",
      "PyYAML                             6.0\n",
      "pyzmq                              22.2.1\n",
      "QDarkStyle                         3.0.2\n",
      "qstylizer                          0.1.10\n",
      "QtAwesome                          1.0.2\n",
      "qtconsole                          5.1.1\n",
      "QtPy                               1.10.0\n",
      "regex                              2021.8.3\n",
      "requests                           2.26.0\n",
      "rope                               0.19.0\n",
      "Rtree                              0.9.7\n",
      "ruamel-yaml-conda                  0.15.100\n",
      "scikit-image                       0.18.3\n",
      "scikit-learn                       0.24.2\n",
      "scikit-learn-intelex               2021.20210714.120553\n",
      "scipy                              1.7.1\n",
      "seaborn                            0.11.2\n",
      "Send2Trash                         1.8.0\n",
      "setuptools                         58.0.4\n",
      "simplegeneric                      0.8.1\n",
      "singledispatch                     3.7.0\n",
      "sip                                4.19.13\n",
      "six                                1.16.0\n",
      "sniffio                            1.2.0\n",
      "snowballstemmer                    2.1.0\n",
      "sortedcollections                  2.1.0\n",
      "sortedcontainers                   2.4.0\n",
      "soupsieve                          2.2.1\n",
      "Sphinx                             4.2.0\n",
      "sphinxcontrib-applehelp            1.0.2\n",
      "sphinxcontrib-devhelp              1.0.2\n",
      "sphinxcontrib-htmlhelp             2.0.0\n",
      "sphinxcontrib-jsmath               1.0.1\n",
      "sphinxcontrib-qthelp               1.0.3\n",
      "sphinxcontrib-serializinghtml      1.1.5\n",
      "sphinxcontrib-websupport           1.2.4\n",
      "spyder                             5.1.5\n",
      "spyder-kernels                     2.1.3\n",
      "SQLAlchemy                         1.4.22\n",
      "statsmodels                        0.12.2\n",
      "sympy                              1.9\n",
      "tables                             3.6.1\n",
      "tangled-up-in-unicode              0.2.0\n",
      "TBB                                0.2\n",
      "tblib                              1.7.0\n",
      "tenacity                           8.0.1\n",
      "terminado                          0.9.4\n",
      "testpath                           0.5.0\n",
      "text-unidecode                     1.3\n",
      "textblob                           0.17.1\n",
      "textdistance                       4.2.1\n",
      "threadpoolctl                      2.2.0\n",
      "three-merge                        0.1.1\n",
      "tifffile                           2021.7.2\n",
      "tinycss                            0.4\n",
      "toml                               0.10.2\n",
      "toolz                              0.11.1\n",
      "tornado                            6.1\n",
      "tqdm                               4.62.3\n",
      "traitlets                          5.1.0\n",
      "typed-ast                          1.4.3\n",
      "typing-extensions                  3.10.0.2\n",
      "ujson                              4.0.2\n",
      "unicodecsv                         0.14.1\n",
      "Unidecode                          1.2.0\n",
      "urllib3                            1.26.7\n",
      "visions                            0.7.4\n",
      "watchdog                           2.1.3\n",
      "wcwidth                            0.2.5\n",
      "webencodings                       0.5.1\n",
      "websocket-client                   1.3.2\n",
      "Werkzeug                           2.0.2\n",
      "wheel                              0.37.0\n",
      "whichcraft                         0.6.1\n",
      "widgetsnbextension                 3.5.1\n",
      "win-inet-pton                      1.1.0\n",
      "win-unicode-console                0.5\n",
      "wincertstore                       0.2\n",
      "wquantiles                         0.6\n",
      "wrapt                              1.12.1\n",
      "xgboost                            1.5.2\n",
      "xlrd                               2.0.1\n",
      "XlsxWriter                         3.0.1\n",
      "xlwings                            0.24.9\n",
      "xlwt                               1.3.0\n",
      "xmltodict                          0.12.0\n",
      "yapf                               0.31.0\n",
      "zict                               2.0.0\n",
      "zipp                               3.6.0\n",
      "zope.event                         4.5.0\n",
      "zope.interface                     5.4.0\n"
     ]
    }
   ],
   "source": [
    "# How many python library packages are installed\n",
    "!pip3 list"
   ]
  },
  {
   "cell_type": "code",
   "execution_count": 4,
   "id": "9081b144",
   "metadata": {},
   "outputs": [
    {
     "name": "stdout",
     "output_type": "stream",
     "text": [
      "Name: numpy\n",
      "Version: 1.20.3\n",
      "Summary: NumPy is the fundamental package for array computing with Python.\n",
      "Home-page: https://www.numpy.org\n",
      "Author: Travis E. Oliphant et al.\n",
      "Author-email: \n",
      "License: BSD\n",
      "Location: c:\\users\\cyriaque matthews\\anaconda3\\lib\\site-packages\n",
      "Requires: \n",
      "Required-by: xgboost, wquantiles, visions, tifffile, tables, statsmodels, seaborn, scipy, scikit-learn, scikit-image, PyWavelets, pyerfa, phik, patsy, pandas, pandas-profiling, numexpr, numba, mkl-random, mkl-fft, missingno, matplotlib, lightgbm, imageio, ImageHash, imagecodecs, h5py, daal4py, Bottleneck, bokeh, bkcharts, astropy\n"
     ]
    }
   ],
   "source": [
    "# Checking the internal detail of the package\n",
    "!pip3 show numpy"
   ]
  },
  {
   "cell_type": "code",
   "execution_count": 5,
   "id": "53a8ce28",
   "metadata": {},
   "outputs": [],
   "source": [
    "# To install a package\n",
    "# !pip install numpy\n",
    "\n",
    "# To just download a package and not install\n",
    "# !pip download numpy"
   ]
  },
  {
   "cell_type": "markdown",
   "id": "4fa47bda",
   "metadata": {},
   "source": [
    "### Basics needed to get started"
   ]
  },
  {
   "cell_type": "code",
   "execution_count": 6,
   "id": "b0383aad",
   "metadata": {},
   "outputs": [
    {
     "name": "stdout",
     "output_type": "stream",
     "text": [
      "Hello LnB\n"
     ]
    }
   ],
   "source": [
    "print(\"Hello LnB\")"
   ]
  },
  {
   "cell_type": "code",
   "execution_count": 7,
   "id": "6f1c270b",
   "metadata": {},
   "outputs": [
    {
     "name": "stdout",
     "output_type": "stream",
     "text": [
      "hello Esosa\n"
     ]
    }
   ],
   "source": [
    "print('hello','Esosa')"
   ]
  },
  {
   "cell_type": "code",
   "execution_count": 8,
   "id": "c18a255b",
   "metadata": {},
   "outputs": [
    {
     "name": "stdout",
     "output_type": "stream",
     "text": [
      "HelloLnB\n"
     ]
    }
   ],
   "source": [
    "print(\"Hello\", \"LnB\", sep=\"\")"
   ]
  },
  {
   "cell_type": "code",
   "execution_count": 9,
   "id": "40212dc7",
   "metadata": {},
   "outputs": [
    {
     "name": "stdout",
     "output_type": "stream",
     "text": [
      "Hello    LnB\n"
     ]
    }
   ],
   "source": [
    "print(\"Hello\",\"LnB\", sep=\"    \")"
   ]
  },
  {
   "cell_type": "code",
   "execution_count": 10,
   "id": "2b81fbb4",
   "metadata": {},
   "outputs": [
    {
     "name": "stdout",
     "output_type": "stream",
     "text": [
      "Hello\n",
      "Hi\n"
     ]
    }
   ],
   "source": [
    "print(\"Hello\", end=\"\\n\")\n",
    "print(\"Hi\")"
   ]
  },
  {
   "cell_type": "code",
   "execution_count": 11,
   "id": "d36034cf",
   "metadata": {},
   "outputs": [
    {
     "name": "stdout",
     "output_type": "stream",
     "text": [
      "Hello\tHi\n"
     ]
    }
   ],
   "source": [
    "print(\"Hello\", end=\"\\t\")\n",
    "print(\"Hi\")"
   ]
  },
  {
   "cell_type": "code",
   "execution_count": 12,
   "id": "f9d9d3c4",
   "metadata": {},
   "outputs": [
    {
     "name": "stdout",
     "output_type": "stream",
     "text": [
      "Hello@Esosa\n"
     ]
    }
   ],
   "source": [
    "print(\"Hello\", end=\"@\")\n",
    "print(\"Esosa\")"
   ]
  },
  {
   "cell_type": "code",
   "execution_count": 13,
   "id": "b679bba5",
   "metadata": {},
   "outputs": [
    {
     "data": {
      "text/plain": [
       "2404239955408"
      ]
     },
     "execution_count": 13,
     "metadata": {},
     "output_type": "execute_result"
    }
   ],
   "source": [
    "a = 100\n",
    "id(a)"
   ]
  },
  {
   "cell_type": "code",
   "execution_count": 14,
   "id": "31421c47",
   "metadata": {},
   "outputs": [
    {
     "data": {
      "text/plain": [
       "2404239955408"
      ]
     },
     "execution_count": 14,
     "metadata": {},
     "output_type": "execute_result"
    }
   ],
   "source": [
    "b = 100\n",
    "id(b)"
   ]
  },
  {
   "cell_type": "code",
   "execution_count": 15,
   "id": "5568c1e1",
   "metadata": {},
   "outputs": [
    {
     "data": {
      "text/plain": [
       "True"
      ]
     },
     "execution_count": 15,
     "metadata": {},
     "output_type": "execute_result"
    }
   ],
   "source": [
    "id(a) == id(b)"
   ]
  },
  {
   "cell_type": "code",
   "execution_count": 16,
   "id": "642d2a60",
   "metadata": {},
   "outputs": [
    {
     "name": "stdout",
     "output_type": "stream",
     "text": [
      "hellohellohellohellohellohellohellohellohellohello\n"
     ]
    }
   ],
   "source": [
    "print(\"hello\"*10)"
   ]
  },
  {
   "cell_type": "code",
   "execution_count": 17,
   "id": "542fa88e",
   "metadata": {},
   "outputs": [
    {
     "name": "stdout",
     "output_type": "stream",
     "text": [
      "\n",
      "\n",
      "\n",
      "\n",
      "\n",
      "\n",
      "\n",
      "\n",
      "\n",
      "\n",
      "\n"
     ]
    }
   ],
   "source": [
    "print(\"\\n\"*10)"
   ]
  },
  {
   "cell_type": "code",
   "execution_count": 18,
   "id": "aad672cc",
   "metadata": {},
   "outputs": [
    {
     "name": "stdout",
     "output_type": "stream",
     "text": [
      "\t\t\t\t\t\t\t\t\t\t\n"
     ]
    }
   ],
   "source": [
    "print(\"\\t\"*10)"
   ]
  },
  {
   "cell_type": "code",
   "execution_count": 19,
   "id": "7864a70f",
   "metadata": {},
   "outputs": [
    {
     "name": "stdout",
     "output_type": "stream",
     "text": [
      "0b1100\n",
      "0b111101\n",
      "0b110001\n",
      "-0b111101\n",
      "0b11110000\n",
      "0b1111\n"
     ]
    }
   ],
   "source": [
    "a = 0b00111100\n",
    "b = 0b00001101\n",
    "print(bin(a&b)) # print a and b\n",
    "print(bin(a|b)) # print a or b\n",
    "print(bin(a^b)) # print a XOR b\n",
    "print(bin(~a)) # print not of a\n",
    "print(bin(a<<2)) # print a leftshift by 2 spaces\n",
    "print(bin(a>>2)) # print a rightshift by 2 spaces"
   ]
  },
  {
   "cell_type": "code",
   "execution_count": 20,
   "id": "7b02cc35",
   "metadata": {},
   "outputs": [
    {
     "data": {
      "text/plain": [
       "'0b111100'"
      ]
     },
     "execution_count": 20,
     "metadata": {},
     "output_type": "execute_result"
    }
   ],
   "source": [
    "bin(a)"
   ]
  },
  {
   "cell_type": "code",
   "execution_count": 21,
   "id": "a8d1449f",
   "metadata": {},
   "outputs": [
    {
     "name": "stdout",
     "output_type": "stream",
     "text": [
      "0b111100\n",
      "0b1111\n"
     ]
    }
   ],
   "source": [
    "print(bin(a))\n",
    "print(bin(a>>2))"
   ]
  },
  {
   "cell_type": "code",
   "execution_count": 22,
   "id": "488c5c58",
   "metadata": {},
   "outputs": [
    {
     "name": "stdout",
     "output_type": "stream",
     "text": [
      "0b111100\n",
      "0b11110000\n"
     ]
    }
   ],
   "source": [
    "print(bin(a))\n",
    "print(bin(a<<2))"
   ]
  },
  {
   "cell_type": "code",
   "execution_count": 23,
   "id": "1595c7db",
   "metadata": {},
   "outputs": [
    {
     "name": "stdout",
     "output_type": "stream",
     "text": [
      "0b1101\n"
     ]
    }
   ],
   "source": [
    "print(bin(a and b))"
   ]
  },
  {
   "cell_type": "code",
   "execution_count": 24,
   "id": "2be5c256",
   "metadata": {},
   "outputs": [
    {
     "data": {
      "text/plain": [
       "'0b0'"
      ]
     },
     "execution_count": 24,
     "metadata": {},
     "output_type": "execute_result"
    }
   ],
   "source": [
    "bin(not a)"
   ]
  },
  {
   "cell_type": "code",
   "execution_count": 25,
   "id": "a20fc690",
   "metadata": {},
   "outputs": [
    {
     "data": {
      "text/plain": [
       "0"
      ]
     },
     "execution_count": 25,
     "metadata": {},
     "output_type": "execute_result"
    }
   ],
   "source": [
    "0b0"
   ]
  },
  {
   "cell_type": "code",
   "execution_count": 26,
   "id": "57378bc0",
   "metadata": {},
   "outputs": [
    {
     "name": "stdout",
     "output_type": "stream",
     "text": [
      "13\n",
      "0b1101\n",
      "60\n",
      "0b111100\n",
      "False\n",
      "0b0\n"
     ]
    }
   ],
   "source": [
    "a = 0b00111100\n",
    "b = 0b00001101\n",
    "print(a and b)\n",
    "print(bin(a and b))\n",
    "print(a or b)\n",
    "print(bin(a or b))\n",
    "print(not (a and b))\n",
    "print(bin(not (a and b)))"
   ]
  },
  {
   "cell_type": "code",
   "execution_count": 27,
   "id": "dad58306",
   "metadata": {},
   "outputs": [
    {
     "name": "stdout",
     "output_type": "stream",
     "text": [
      "False\n",
      "True\n"
     ]
    }
   ],
   "source": [
    "a = [1,2,3,4]\n",
    "b=6\n",
    "print(b in a)\n",
    "print(b not in a)"
   ]
  },
  {
   "cell_type": "code",
   "execution_count": 28,
   "id": "b949cad4",
   "metadata": {},
   "outputs": [
    {
     "name": "stdout",
     "output_type": "stream",
     "text": [
      "2404239764048\n",
      "2404239764048\n",
      "True\n",
      "False\n"
     ]
    }
   ],
   "source": [
    "a=10\n",
    "b=10\n",
    "print(id(a))\n",
    "print(id(b))\n",
    "print(a is b)\n",
    "print(a is not b)"
   ]
  },
  {
   "cell_type": "code",
   "execution_count": 29,
   "id": "bf7df39c",
   "metadata": {},
   "outputs": [
    {
     "name": "stdout",
     "output_type": "stream",
     "text": [
      "123\n"
     ]
    }
   ],
   "source": [
    "# Taking user input. 1st method.\n",
    "a = input(\"Enter any number\")\n",
    "print(a)"
   ]
  },
  {
   "cell_type": "code",
   "execution_count": 30,
   "id": "42a0b10e",
   "metadata": {},
   "outputs": [
    {
     "name": "stdout",
     "output_type": "stream",
     "text": [
      "<class 'str'>\n"
     ]
    }
   ],
   "source": [
    "print(type(a))"
   ]
  },
  {
   "cell_type": "code",
   "execution_count": 31,
   "id": "71564505",
   "metadata": {},
   "outputs": [
    {
     "name": "stdout",
     "output_type": "stream",
     "text": [
      "456879\n"
     ]
    }
   ],
   "source": [
    "a = input(\"Enter first number\")\n",
    "b = input(\"Enter second number\")\n",
    "c=a+b\n",
    "print(c)"
   ]
  },
  {
   "cell_type": "code",
   "execution_count": 32,
   "id": "3e4c7fdc",
   "metadata": {},
   "outputs": [],
   "source": [
    "#c=a*b"
   ]
  },
  {
   "cell_type": "code",
   "execution_count": 33,
   "id": "6c0ae81e",
   "metadata": {},
   "outputs": [
    {
     "name": "stdout",
     "output_type": "stream",
     "text": [
      "246\n"
     ]
    }
   ],
   "source": [
    "# eval() evaluates the input so as to determine the type to assign to the variable\n",
    "a = eval(input(\"Enter first number\"))\n",
    "b = eval(input(\"Enter second number\"))\n",
    "c=a+b\n",
    "print(c)"
   ]
  },
  {
   "cell_type": "code",
   "execution_count": 34,
   "id": "b5614748",
   "metadata": {},
   "outputs": [
    {
     "data": {
      "text/plain": [
       "'import fileinput\\nfor data in fileinput.input():\\n    print(data)'"
      ]
     },
     "execution_count": 34,
     "metadata": {},
     "output_type": "execute_result"
    }
   ],
   "source": [
    "# Second option of taking user inputs\n",
    "# This is giving me errors\n",
    "'''import fileinput\n",
    "for data in fileinput.input():\n",
    "    print(data)'''"
   ]
  },
  {
   "cell_type": "code",
   "execution_count": 35,
   "id": "7d026bb6",
   "metadata": {},
   "outputs": [
    {
     "name": "stdout",
     "output_type": "stream",
     "text": [
      "This is me creating a file \n",
      "\n",
      " \tWooohoooo!!!!\n"
     ]
    }
   ],
   "source": [
    "# Third option of taking user inputs\n",
    "with open('readme.txt', 'w') as f:\n",
    "    f.write('This is me creating a file \\n \\tWooohoooo!!!!')\n",
    "\n",
    "import fileinput\n",
    "for data in fileinput.input(\"readme.txt\"):\n",
    "    print(data)\n",
    "\n",
    "\n"
   ]
  },
  {
   "cell_type": "code",
   "execution_count": 36,
   "id": "0805faa2",
   "metadata": {},
   "outputs": [
    {
     "data": {
      "text/plain": [
       "'import sys\\ndata = sys.stdin.readline()\\nprint(data)'"
      ]
     },
     "execution_count": 36,
     "metadata": {},
     "output_type": "execute_result"
    }
   ],
   "source": [
    "# Fourth method of taking inputs\n",
    "# sys.stdin.readline() not reading in Jupyter\n",
    "'''import sys\n",
    "data = sys.stdin.readline()\n",
    "print(data)'''"
   ]
  },
  {
   "cell_type": "markdown",
   "id": "ab048a94",
   "metadata": {},
   "source": [
    "### Data Structures - Tuple"
   ]
  },
  {
   "cell_type": "code",
   "execution_count": 37,
   "id": "c3081a69",
   "metadata": {},
   "outputs": [
    {
     "name": "stdout",
     "output_type": "stream",
     "text": [
      "(23, 88, 99, 101)\n",
      "<class 'tuple'>\n"
     ]
    }
   ],
   "source": [
    "# creating tuple with homogeneous values\n",
    "t1 = (23,88,99,101)\n",
    "print(t1)\n",
    "print(type(t1))"
   ]
  },
  {
   "cell_type": "code",
   "execution_count": 38,
   "id": "d516e419",
   "metadata": {},
   "outputs": [
    {
     "name": "stdout",
     "output_type": "stream",
     "text": [
      "(23, 88.9, 99, 'hello lnb')\n",
      "<class 'tuple'>\n"
     ]
    }
   ],
   "source": [
    "# another tuple with heterogeneous values\n",
    "t2 = (23,88.9,99,\"hello lnb\")\n",
    "print(t2)\n",
    "print(type(t2))"
   ]
  },
  {
   "cell_type": "code",
   "execution_count": 39,
   "id": "afe4a94c",
   "metadata": {},
   "outputs": [
    {
     "name": "stdout",
     "output_type": "stream",
     "text": [
      "4\n",
      "True\n",
      "False\n",
      "1\n"
     ]
    }
   ],
   "source": [
    "# Operations in Tuple\n",
    "# length of tuple\n",
    "mylength = len(t1)\n",
    "print(mylength)\n",
    "\n",
    "# Search in tuple\n",
    "print(23 in t2)\n",
    "print(234 in t2)\n",
    "\n",
    "# Count elements in tuple\n",
    "c = t1.count(23)\n",
    "print(c)\n"
   ]
  },
  {
   "cell_type": "code",
   "execution_count": 40,
   "id": "36c7fdb4",
   "metadata": {},
   "outputs": [
    {
     "name": "stdout",
     "output_type": "stream",
     "text": [
      "23\n",
      "(23, 88, 99)\n",
      "(23, 99)\n",
      "101\n",
      "('hello', 34, (23, 88, 99, 101))\n",
      "(23, 88, 99, 101)\n",
      "101\n"
     ]
    }
   ],
   "source": [
    "# Storage concept of tuple\n",
    "# First element slicing\n",
    "print(t1[0])\n",
    "\n",
    "# range printing\n",
    "print(t1[0:3])\n",
    "\n",
    "# jumping values\n",
    "print(t1[0::2])\n",
    "\n",
    "# printing the last element only\n",
    "print(t1[-1])\n",
    "\n",
    "# tuple inside tuple\n",
    "t3 = ('hello',34,t1)\n",
    "print(t3)\n",
    "print(t3[-1])\n",
    "\n",
    "# print last element of the last element of t3\n",
    "print(t3[-1][-1])"
   ]
  },
  {
   "cell_type": "code",
   "execution_count": 41,
   "id": "a8b22c5c",
   "metadata": {},
   "outputs": [
    {
     "name": "stdout",
     "output_type": "stream",
     "text": [
      "<class 'str'>\n",
      "<class 'tuple'>\n"
     ]
    }
   ],
   "source": [
    "# integration with for loop\n",
    "\n",
    "# Note using () over a single value without a ',' at the\n",
    "# end produces a string type.\n",
    "tx = ('LnB')\n",
    "print(type(tx))\n",
    "\n",
    "\n",
    "tx = ('LnB',)\n",
    "print(type(tx))"
   ]
  },
  {
   "cell_type": "markdown",
   "id": "5b3d7f10",
   "metadata": {},
   "source": [
    "### Data Structures - List"
   ]
  },
  {
   "cell_type": "code",
   "execution_count": 42,
   "id": "a9841574",
   "metadata": {},
   "outputs": [
    {
     "name": "stdout",
     "output_type": "stream",
     "text": [
      "<class 'list'>\n",
      "[12, 23, 45, 78]\n",
      "<class 'list'>\n",
      "[12, 23, 45.3, 'Hello LnB']\n",
      "[]\n",
      "[12, 23, 45, 78, 100]\n",
      "['Hey Esosa', 12, 23, 45, 78, 100]\n",
      "['Hey Esosa', 12, 23, 45, 78, 100, 0, 77, 'nice']\n",
      "['Hey Esosa', 12, 23, 45, 78, 100, 0, 77]\n",
      "['Hey Esosa', 12, 45, 78, 100, 0, 77]\n"
     ]
    }
   ],
   "source": [
    "# defining a list with homogeneous type of data\n",
    "x1 = [12,23,45,78]\n",
    "print(type(x1))\n",
    "print(x1)\n",
    "\n",
    "# defining a list with heterogeneous type of data\n",
    "x2 = [12,23,45.3,\"Hello LnB\"]\n",
    "print(type(x2))\n",
    "print(x2)\n",
    "\n",
    "# creating empty list\n",
    "x3=[]\n",
    "print(x3)\n",
    "\n",
    "# lists are mutable\n",
    "# adding elements using append\n",
    "x1.append(100)\n",
    "print(x1)\n",
    "\n",
    "# adding element using insert\n",
    "x1.insert(0, \"Hey Esosa\")\n",
    "print(x1)\n",
    "\n",
    "# adding multiple values in last of list\n",
    "x1.extend((0,77,'nice'))\n",
    "print(x1)\n",
    "\n",
    "# Remove element by position\n",
    "x1.pop()  #pop removes the last element from the list if an index is not specified\n",
    "print(x1)\n",
    "\n",
    "# remove element by value\n",
    "x1.remove(23)\n",
    "print(x1)"
   ]
  },
  {
   "cell_type": "code",
   "execution_count": 43,
   "id": "93446e3d",
   "metadata": {},
   "outputs": [
    {
     "name": "stdout",
     "output_type": "stream",
     "text": [
      "['Hey Esosa', 12, 45, 78, 100, 0, 77] \n",
      " [12, 23, 45.3, 'Hello LnB']\n"
     ]
    }
   ],
   "source": [
    "print(x1,'\\n',x2)"
   ]
  },
  {
   "cell_type": "code",
   "execution_count": 44,
   "id": "99c2c03e",
   "metadata": {},
   "outputs": [
    {
     "name": "stdout",
     "output_type": "stream",
     "text": [
      "['Hey Esosa', 12, 45, 78, 100, 0, 77, 12, 23, 45.3, 'Hello LnB']\n",
      "[12, 45, 78, 100, 0, 77]\n",
      "Sorted x1:  [0, 12, 45, 77, 78, 100]\n"
     ]
    }
   ],
   "source": [
    "x3 = x1+x2\n",
    "print(x3)\n",
    "x3.count(12)\n",
    "for x in x1:\n",
    "    if (type(x)==str):\n",
    "        x1.remove(x)\n",
    "    else:\n",
    "        continue\n",
    "print(x1)\n",
    "\n",
    "# sorting\n",
    "x1.sort()\n",
    "print(\"Sorted x1: \", x1)"
   ]
  },
  {
   "cell_type": "markdown",
   "id": "61861458",
   "metadata": {},
   "source": [
    "### Data Structures - Strings"
   ]
  },
  {
   "cell_type": "code",
   "execution_count": 45,
   "id": "cdbe589c",
   "metadata": {},
   "outputs": [
    {
     "name": "stdout",
     "output_type": "stream",
     "text": [
      "Hey Esosa\n",
      "Het Esosa Hello LnB and Welcome to Python\n"
     ]
    }
   ],
   "source": [
    "x1 = \"Hello LnB\"\n",
    "x2 = \"Welcome to Python\"\n",
    "name = 'Esosa'\n",
    "print(\"Hey %s\"%name)\n",
    "print('Het Esosa {} and {}'.format(x1,x2))"
   ]
  },
  {
   "cell_type": "code",
   "execution_count": 46,
   "id": "e33c1d1b",
   "metadata": {},
   "outputs": [
    {
     "name": "stdout",
     "output_type": "stream",
     "text": [
      "['Welcome', 'to', 'Python']\n",
      "['Welcome ', 'o Py', 'hon']\n"
     ]
    }
   ],
   "source": [
    "print(x2.split())\n",
    "print(x2.split('t'))"
   ]
  },
  {
   "cell_type": "code",
   "execution_count": 47,
   "id": "09aa3c91",
   "metadata": {},
   "outputs": [
    {
     "name": "stdout",
     "output_type": "stream",
     "text": [
      "11\n",
      "H l\n",
      "Hel\n",
      "el\n",
      "d\n",
      "True\n",
      "2\n",
      "3\n"
     ]
    }
   ],
   "source": [
    "x = 'Hello World'\n",
    "print(len(x))\n",
    "\n",
    "# just print single char\n",
    "print(x[0],x[2])\n",
    "\n",
    "# range of string or I can substring\n",
    "print(x[0:3])\n",
    "print(x[1:3])\n",
    "\n",
    "# only last char\n",
    "print(x[-1])\n",
    "\n",
    "# search or find\n",
    "print(\"o\" in x)\n",
    "\n",
    "# search or find position\n",
    "print(x.find('l'))\n",
    "print(x.find('l',3))"
   ]
  },
  {
   "cell_type": "markdown",
   "id": "7434d0b4",
   "metadata": {},
   "source": [
    "### Data Structures - Dictionary"
   ]
  },
  {
   "cell_type": "code",
   "execution_count": 48,
   "id": "ce2a0eb6",
   "metadata": {},
   "outputs": [
    {
     "name": "stdout",
     "output_type": "stream",
     "text": [
      "<class 'dict'>\n",
      "{'name': 'ashutoshh', 'company': 'LnB', 'contact': 6888}\n",
      "dict_keys(['name', 'company', 'contact'])\n",
      "dict_values(['ashutoshh', 'LnB', 6888])\n",
      "LnB\n"
     ]
    },
    {
     "data": {
      "text/plain": [
       "{0: ['Hello World', 27]}"
      ]
     },
     "execution_count": 48,
     "metadata": {},
     "output_type": "execute_result"
    }
   ],
   "source": [
    "# empty dictionary\n",
    "d1={}\n",
    "print(type(d1))\n",
    "# create another dictionary\n",
    "d2={'name':'ashutoshh','company':\"LnB\",\"contact\":6888}\n",
    "print(d2)\n",
    "# printing keys\n",
    "print(d2.keys())\n",
    "# printing values\n",
    "print(d2.values())\n",
    "print(d2['company'])\n",
    "\n",
    "# adding elements\n",
    "d1[0] = ['Hello World', 27]\n",
    "d1"
   ]
  },
  {
   "cell_type": "code",
   "execution_count": 49,
   "id": "1922a91e",
   "metadata": {},
   "outputs": [
    {
     "name": "stdout",
     "output_type": "stream",
     "text": [
      "\u001b[1;31mDocstring:\u001b[0m\n",
      "D.pop(k[,d]) -> v, remove specified key and return the corresponding value.\n",
      "\n",
      "If key is not found, default is returned if given, otherwise KeyError is raised\n",
      "\u001b[1;31mType:\u001b[0m      builtin_function_or_method\n"
     ]
    }
   ],
   "source": [
    "?d2.pop"
   ]
  },
  {
   "cell_type": "markdown",
   "id": "e0ef41d6",
   "metadata": {},
   "source": [
    "### Data Structures - Sets"
   ]
  },
  {
   "cell_type": "code",
   "execution_count": 8,
   "id": "0ca66c03",
   "metadata": {},
   "outputs": [
    {
     "name": "stdout",
     "output_type": "stream",
     "text": [
      "<class 'set'>\n",
      "{3, 100, 5, 6, 9}\n",
      "<class 'set'>\n",
      "{'hello', 89, 23}\n",
      "{3, 100, 5, 6, 9, 'hello lNb'}\n",
      "{3, 100, 5, 6, 55, 9, 'ok cool', 'hello lNb'}\n",
      "{3, 100, 5, 6, 9, 'ok cool', 'hello lNb'}\n",
      "{100, 5, 6, 9, 'ok cool', 'hello lNb'}\n"
     ]
    }
   ],
   "source": [
    "# define\n",
    "st1 = {3,6,100,5,9,100}\n",
    "print(type(st1))\n",
    "# notice how the second '100' was removed\n",
    "print(st1)\n",
    "\n",
    "#second\n",
    "st2 = set([23,'hello',89])\n",
    "print(type(st2))\n",
    "print(st2)\n",
    "\n",
    "# adding element\n",
    "st1.add(\"hello lNb\")\n",
    "print(st1)\n",
    "\n",
    "# multiple element\n",
    "st1.update([55,'ok cool'])\n",
    "print(st1)\n",
    "\n",
    "# remove\n",
    "st1.discard(55)\n",
    "print(st1)\n",
    "st1.remove(3)\n",
    "print(st1)"
   ]
  },
  {
   "cell_type": "code",
   "execution_count": 15,
   "id": "324b0e50",
   "metadata": {},
   "outputs": [
    {
     "name": "stdout",
     "output_type": "stream",
     "text": [
      "{9, 100, 6}\n",
      "{9, 100, 6}\n",
      "{'hello'}\n",
      "{'hello', 3, 100, 5, 6, 9}\n",
      "{3, 5}\n",
      "None\n",
      "set()\n"
     ]
    }
   ],
   "source": [
    "# operations\n",
    "st1 = {3,6,100,5,9,100}\n",
    "st2 = {3,5,'hello'}\n",
    "\n",
    "# difference operation\n",
    "print(st1-st2)\n",
    "print(st1.difference(st2))\n",
    "print(st2.difference(st1))\n",
    "\n",
    "# or\n",
    "print(st1 | st2)\n",
    "\n",
    "# and\n",
    "print(st1 & st2)\n",
    "\n",
    "# clear\n",
    "print(st1.clear())\n",
    "print(st1)"
   ]
  },
  {
   "cell_type": "markdown",
   "id": "d6227d83",
   "metadata": {},
   "source": [
    "#### Control Flow - Decision Making"
   ]
  },
  {
   "cell_type": "code",
   "execution_count": 26,
   "id": "b5b1c64c",
   "metadata": {},
   "outputs": [
    {
     "name": "stdout",
     "output_type": "stream",
     "text": [
      "3 is lesser ...\n",
      "2 is lesser than 6\n",
      "ok Google...\n",
      "I am LnB...\n"
     ]
    }
   ],
   "source": [
    "# creating a var\n",
    "a = 3\n",
    "\n",
    "if a > 6:\n",
    "    print(f\"{a} is greater ...\")\n",
    "else:\n",
    "    print(a,\"is lesser ...\")\n",
    "\n",
    "# nested if else\n",
    "# case 1\n",
    "x = 2\n",
    "y = 6\n",
    "if x > y:\n",
    "    print(x,\"is greater than\", y)\n",
    "    if x > 10:\n",
    "        print(x,\"is greater than 10\")\n",
    "    else:\n",
    "        print(\"I am running myself\")\n",
    "else:\n",
    "    print(x,\"is lesser than\",y)\n",
    "\n",
    "x=7; y=6\n",
    "if x > y:\n",
    "    print(\"ok Google...\")\n",
    "elif x < y:\n",
    "    print(\"Ok LnB...\")\n",
    "elif x == y:\n",
    "    print(\"We trust in equality...\")\n",
    "else:\n",
    "    print(\"I don't know why I am here \")\n",
    "\n",
    "# another\n",
    "data = \"LnB\"\n",
    "if data == \"Ashu\":\n",
    "    print(\"I am Ashutoshh\")\n",
    "else:\n",
    "    print(\"I am LnB...\")"
   ]
  },
  {
   "cell_type": "code",
   "execution_count": 33,
   "id": "34d12c28",
   "metadata": {},
   "outputs": [
    {
     "name": "stdout",
     "output_type": "stream",
     "text": [
      "OK user is present\n",
      "Password is correct!\n"
     ]
    }
   ],
   "source": [
    "# list creation\n",
    "usernames = ['lnb','ashutoshh','saur','prateek']\n",
    "\n",
    "\"\"\" user=input(\"Enter username: \")\n",
    "if user in usernames:\n",
    "    print(\"Username is correct ...\")\n",
    "    print(f'Welcome {user}')\n",
    "else:\n",
    "    print(f\"{user}, is not present ...\")\n",
    " \"\"\"\n",
    "# creating a dict\n",
    "username_password = {\"lnb\":1234, \"ashutoshh\":9087, \"saur\":\"Okkool\", \"prateek\":8877}\n",
    "user1 = input(\"Enter username : \")\n",
    "\n",
    "if user1 in username_password:\n",
    "    print(\"OK user is present\")\n",
    "    try:\n",
    "        pwd = int(input(\"Enter password: \"))\n",
    "        if pwd == username_password[user1]:\n",
    "            print('Password is correct!')\n",
    "        else:\n",
    "            print('Password is not correct!')\n",
    "    except:\n",
    "        print(\"Error! Enter an integer\")\n",
    "else:\n",
    "    print(\"User is not present\")\n"
   ]
  },
  {
   "cell_type": "markdown",
   "id": "5d670c90",
   "metadata": {},
   "source": [
    "##### Unfortunately, I lost some of my work here while running a while loop"
   ]
  },
  {
   "cell_type": "markdown",
   "id": "84ccda9d",
   "metadata": {},
   "source": [
    "### Control Flow - While Loop"
   ]
  },
  {
   "cell_type": "code",
   "execution_count": 1,
   "id": "94c0bea3",
   "metadata": {},
   "outputs": [
    {
     "name": "stdout",
     "output_type": "stream",
     "text": [
      "Hello LnB...\n",
      "Hello LnB...\n",
      "Hello LnB...\n"
     ]
    }
   ],
   "source": [
    "# demo 1\n",
    "count = 0\n",
    "while count < 3:\n",
    "    count += 1\n",
    "    print(\"Hello LnB...\")"
   ]
  },
  {
   "cell_type": "code",
   "execution_count": 3,
   "id": "cbc83076",
   "metadata": {},
   "outputs": [
    {
     "name": "stdout",
     "output_type": "stream",
     "text": [
      "Hello LnB...\n",
      "Hello LnB...\n",
      "Hello LnB...\n"
     ]
    }
   ],
   "source": [
    "# demo 2\n",
    "count = 0\n",
    "while count < 3: count += 1 ; print(\"Hello LnB...\")"
   ]
  },
  {
   "cell_type": "code",
   "execution_count": 4,
   "id": "4f2fde40",
   "metadata": {},
   "outputs": [
    {
     "name": "stdout",
     "output_type": "stream",
     "text": [
      "6\n",
      "[1, 3, 5]\n",
      "5\n",
      "[1, 3]\n",
      "3\n",
      "[1]\n",
      "1\n",
      "[]\n"
     ]
    }
   ],
   "source": [
    "# a list with while\n",
    "lnb = [1,3,5,6]\n",
    "while lnb:\n",
    "    print(lnb.pop())\n",
    "    print(lnb)"
   ]
  },
  {
   "cell_type": "code",
   "execution_count": 5,
   "id": "1e44b9cd",
   "metadata": {},
   "outputs": [
    {
     "name": "stdout",
     "output_type": "stream",
     "text": [
      "current letter is : h\n",
      "current letter is : e\n",
      "current letter is : l\n",
      "current letter is : l\n",
      "current letter is : l\n",
      "current letter is : n\n"
     ]
    }
   ],
   "source": [
    "# loop controllers\n",
    "i = 0\n",
    "a = \"hellolnb\"\n",
    "while i < len(a):\n",
    "    if a[i] == \"o\" or a[i] == 'b':\n",
    "        i+=1\n",
    "        continue\n",
    "    print(\"current letter is :\", a[i])\n",
    "    i+=1"
   ]
  },
  {
   "cell_type": "markdown",
   "id": "e9525b6b",
   "metadata": {},
   "source": [
    "### Exploring Functions"
   ]
  },
  {
   "cell_type": "code",
   "execution_count": 7,
   "id": "f6f73959",
   "metadata": {},
   "outputs": [
    {
     "name": "stdout",
     "output_type": "stream",
     "text": [
      "Wow! I am creating my first function\n"
     ]
    }
   ],
   "source": [
    "# creating function\n",
    "def myfunction():\n",
    "    print(\"Wow! I am creating my first function\")\n",
    "\n",
    "# calling function\n",
    "myfunction()"
   ]
  },
  {
   "cell_type": "code",
   "execution_count": 14,
   "id": "c3d9d0ba",
   "metadata": {},
   "outputs": [
    {
     "name": "stdout",
     "output_type": "stream",
     "text": [
      "I threw an error\n",
      "Fear Me!\n"
     ]
    }
   ],
   "source": [
    "# function with argument\n",
    "def display(x):\n",
    "    print(x)\n",
    "    return\n",
    "\n",
    "# calling\n",
    "try:\n",
    "    display() # will throw an error if x is not given\n",
    "except:\n",
    "    print(\"I threw an error\")\n",
    "\n",
    "display(\"Fear Me!\")"
   ]
  },
  {
   "cell_type": "code",
   "execution_count": 15,
   "id": "f0e2d5ac",
   "metadata": {},
   "outputs": [
    {
     "name": "stdout",
     "output_type": "stream",
     "text": [
      "Esosa LnB001\n"
     ]
    }
   ],
   "source": [
    "# function with multiple arg\n",
    "def learner(name, rollnum):\n",
    "    print(name,rollnum)\n",
    "\n",
    "# calling\n",
    "learner(name=\"Esosa\", rollnum=\"LnB001\")"
   ]
  },
  {
   "cell_type": "code",
   "execution_count": 17,
   "id": "44d74de8",
   "metadata": {},
   "outputs": [
    {
     "name": "stdout",
     "output_type": "stream",
     "text": [
      "Esosa Male\n",
      "Selina Female\n"
     ]
    }
   ],
   "source": [
    "# function with fixed argument\n",
    "def mydata(name, gender=\"Male\"):\n",
    "    print(name,gender)\n",
    "    return\n",
    "\n",
    "# calling\n",
    "mydata(name=\"Esosa\")\n",
    "mydata(name=\"Selina\", gender=\"Female\")"
   ]
  },
  {
   "cell_type": "code",
   "execution_count": 21,
   "id": "5e111f6f",
   "metadata": {},
   "outputs": [
    {
     "name": "stdout",
     "output_type": "stream",
     "text": [
      "My value is  [10, 20, 30, [1, 2, 3, 4]]\n",
      "[10, 20, 30, [1, 2, 3, 4]]\n",
      "data inside the function  [1, 2, 3, 4]\n",
      "[10, 20, 30, 40]\n"
     ]
    }
   ],
   "source": [
    "# function by value or by reference\n",
    "# case 1\n",
    "def passbyvalue(data):\n",
    "    data.append([1,2,3,4])\n",
    "    print(\"My value is \", data)\n",
    "    return\n",
    "\n",
    "# calling\n",
    "data=[10,20,30]\n",
    "passbyvalue(data)\n",
    "print(data)\n",
    "\n",
    "# case 2\n",
    "def passbyref(data1):\n",
    "    data1=[1,2,3,4]\n",
    "    print(\"data inside the function \", data1)\n",
    "    return\n",
    "\n",
    "# calling\n",
    "data1 = [10,20,30,40]\n",
    "passbyref(data1)\n",
    "print(data1)\n"
   ]
  },
  {
   "cell_type": "code",
   "execution_count": 23,
   "id": "40bdcfdc",
   "metadata": {},
   "outputs": [
    {
     "name": "stdout",
     "output_type": "stream",
     "text": [
      "I threw an error\n",
      "(100, 56)\n",
      "<class 'tuple'>\n"
     ]
    }
   ],
   "source": [
    "# variable length argument\n",
    "def myfunction(x):\n",
    "    print(x)\n",
    "    print(type(x))\n",
    "try:\n",
    "    myfunction(100,56) \n",
    "    # can't work with these because the functionn can only receive one argument\n",
    "except:\n",
    "    print(\"I threw an error\")\n",
    "\n",
    "# trying the above function again\n",
    "def myfunction(*x): #the star does wonders\n",
    "    print(x)\n",
    "    print(type(x))\n",
    "\n",
    "# function call\n",
    "myfunction(100,56)\n"
   ]
  },
  {
   "cell_type": "code",
   "execution_count": 25,
   "id": "41e73d11",
   "metadata": {},
   "outputs": [
    {
     "name": "stdout",
     "output_type": "stream",
     "text": [
      "First name is Esosa\n",
      "Roll number is LnB001\n"
     ]
    }
   ],
   "source": [
    "## argument in form of dict\n",
    "def lnb(**learner):\n",
    "    print(\"First name is\", learner['fname'])\n",
    "    print('Roll number is', learner['rollnum'])\n",
    "\n",
    "# calling my function\n",
    "lnb(fname=\"Esosa\", rollnum=\"LnB001\")"
   ]
  },
  {
   "cell_type": "code",
   "execution_count": 27,
   "id": "7d2a903a",
   "metadata": {},
   "outputs": [],
   "source": [
    "# return data from a function\n",
    "def square(x):\n",
    "    x**2\n",
    "# calling function\n",
    "square(3) # returns nothing\n"
   ]
  },
  {
   "cell_type": "code",
   "execution_count": 28,
   "id": "b5b974ed",
   "metadata": {},
   "outputs": [
    {
     "data": {
      "text/plain": [
       "4"
      ]
     },
     "execution_count": 28,
     "metadata": {},
     "output_type": "execute_result"
    }
   ],
   "source": [
    "def square(x):\n",
    "    return x**2\n",
    "# calling function\n",
    "square(2)"
   ]
  },
  {
   "cell_type": "code",
   "execution_count": 29,
   "id": "74e7f872",
   "metadata": {},
   "outputs": [
    {
     "name": "stdout",
     "output_type": "stream",
     "text": [
      "343\n"
     ]
    }
   ],
   "source": [
    "# lambda function\n",
    "cube = lambda x : x**3\n",
    "print(cube(7))"
   ]
  },
  {
   "cell_type": "code",
   "execution_count": 31,
   "id": "ee5dbb2f",
   "metadata": {},
   "outputs": [
    {
     "name": "stdout",
     "output_type": "stream",
     "text": [
      "1\n",
      "3\n",
      "6\n",
      "10\n",
      "15\n",
      "21\n",
      "28\n",
      "36\n",
      "45\n",
      "55\n"
     ]
    },
    {
     "data": {
      "text/plain": [
       "55"
      ]
     },
     "execution_count": 31,
     "metadata": {},
     "output_type": "execute_result"
    }
   ],
   "source": [
    "# recursion --\n",
    "def recursion(k):\n",
    "    if k > 0 :\n",
    "        result = k + recursion(k-1)\n",
    "        print(result)\n",
    "    else:\n",
    "        result = 0\n",
    "    return result\n",
    "\n",
    "# call\n",
    "recursion(10)"
   ]
  },
  {
   "cell_type": "code",
   "execution_count": null,
   "id": "511c2d87",
   "metadata": {},
   "outputs": [],
   "source": []
  }
 ],
 "metadata": {
  "kernelspec": {
   "display_name": "Python 3 (ipykernel)",
   "language": "python",
   "name": "python3"
  },
  "language_info": {
   "codemirror_mode": {
    "name": "ipython",
    "version": 3
   },
   "file_extension": ".py",
   "mimetype": "text/x-python",
   "name": "python",
   "nbconvert_exporter": "python",
   "pygments_lexer": "ipython3",
   "version": "3.9.7"
  }
 },
 "nbformat": 4,
 "nbformat_minor": 5
}
